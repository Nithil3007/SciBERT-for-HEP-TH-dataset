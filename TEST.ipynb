{
  "cells": [
    {
      "cell_type": "markdown",
      "metadata": {
        "id": "view-in-github",
        "colab_type": "text"
      },
      "source": [
        "<a href=\"https://colab.research.google.com/github/Nithil3007/SciBERT-for-HEP-TH-dataset/blob/main/TEST.ipynb\" target=\"_parent\"><img src=\"https://colab.research.google.com/assets/colab-badge.svg\" alt=\"Open In Colab\"/></a>"
      ]
    },
    {
      "cell_type": "code",
      "execution_count": 1,
      "metadata": {
        "id": "CJIxoWfhBcfI"
      },
      "outputs": [],
      "source": [
        "import os\n",
        "import pandas as pd\n",
        "import re\n",
        "from pandas import *\n",
        "from sklearn.model_selection import train_test_split\n",
        "\n",
        "path='/content/drive/MyDrive/Hepth Deep Text/'\n",
        "paths = []\n",
        "#Testing the model on papers from 2000-2004\n",
        "for i in range(2000,2004):\n",
        "    paths.append(path+str(i)+' hepth deep texts')"
      ]
    },
    {
      "cell_type": "code",
      "execution_count": 2,
      "metadata": {
        "id": "Sk-UF_bqWcaI",
        "colab": {
          "base_uri": "https://localhost:8080/"
        },
        "outputId": "422d892b-a3ca-4d34-938a-59aa03bbf750"
      },
      "outputs": [
        {
          "output_type": "stream",
          "name": "stdout",
          "text": [
            "Mounted at /content/drive\n"
          ]
        }
      ],
      "source": [
        "from google.colab import drive\n",
        "drive.mount('/content/drive')"
      ]
    },
    {
      "cell_type": "code",
      "source": [
        "file=pd.read_csv('/content/drive/MyDrive/infPaperTag.csv')\n",
        "terms=file['0'].values.tolist()\n",
        "actual=file['2'].values.tolist()\n",
        "print(paths)"
      ],
      "metadata": {
        "id": "PtGPa7T1Max4",
        "colab": {
          "base_uri": "https://localhost:8080/"
        },
        "outputId": "1cd41a0f-0999-4b9d-887f-6cf76342688a"
      },
      "execution_count": 3,
      "outputs": [
        {
          "output_type": "stream",
          "name": "stdout",
          "text": [
            "['/content/drive/MyDrive/Hepth Deep Text/2000 hepth deep texts', '/content/drive/MyDrive/Hepth Deep Text/2001 hepth deep texts', '/content/drive/MyDrive/Hepth Deep Text/2002 hepth deep texts', '/content/drive/MyDrive/Hepth Deep Text/2003 hepth deep texts']\n"
          ]
        }
      ]
    },
    {
      "cell_type": "code",
      "execution_count": 4,
      "metadata": {
        "id": "fyf-QSSAODsN",
        "colab": {
          "base_uri": "https://localhost:8080/"
        },
        "outputId": "c84e9b1c-4b5d-409b-dca3-460702be9d98"
      },
      "outputs": [
        {
          "output_type": "stream",
          "name": "stdout",
          "text": [
            "0\n",
            "1\n",
            "2\n",
            "3\n"
          ]
        }
      ],
      "source": [
        "texts = []\n",
        "pokis=[]\n",
        "labels_to_category = []\n",
        "for i in range(len(paths)):\n",
        "    print(i)\n",
        "    for j in os.listdir(paths[i]):\n",
        "        if  int(re.findall(r'\\d+',j)[0]) in terms:\n",
        "               with open(paths[i]+\"/\"+j,encoding=\"utf8\", errors='ignore') as f:\n",
        "                 temp = f.read()\n",
        "                 temp = temp.replace(\"\\n\",\" \").replace('\\r','')\n",
        "                 texts.append(temp)\n",
        "                 f.close()"
      ]
    },
    {
      "cell_type": "code",
      "execution_count": 5,
      "metadata": {
        "id": "f-VSURAUIGPC",
        "colab": {
          "base_uri": "https://localhost:8080/"
        },
        "outputId": "3f8ae927-1306-4844-a212-b73e35a19f22"
      },
      "outputs": [
        {
          "output_type": "execute_result",
          "data": {
            "text/plain": [
              "8835"
            ]
          },
          "metadata": {},
          "execution_count": 5
        }
      ],
      "source": [
        "#Test set \n",
        "data_frame = pd.DataFrame({'texts':texts})\n",
        "len(texts)"
      ]
    },
    {
      "cell_type": "code",
      "execution_count": 7,
      "metadata": {
        "id": "SVmII4rvIOqs"
      },
      "outputs": [],
      "source": [
        "from string import punctuation\n",
        "from os import listdir\n",
        "from collections import Counter\n",
        "from nltk.corpus import stopwords\n",
        "import pandas as pd\n",
        "import numpy as np\n",
        "from numpy import array\n",
        "import keras\n",
        "from keras.preprocessing.text import Tokenizer\n",
        "from keras_preprocessing.sequence import pad_sequences\n",
        "from keras.models import Sequential\n",
        "from keras.layers import Dense, Dropout\n",
        "from keras.layers import Flatten\n",
        "from keras.layers import Embedding\n",
        "from keras.layers.convolutional import Conv1D\n",
        "from keras.layers.convolutional import MaxPooling1D\n",
        "from sklearn.preprocessing import LabelBinarizer\n",
        "from tensorflow.keras.utils import to_categorical"
      ]
    },
    {
      "cell_type": "code",
      "source": [
        "!pip install transformers"
      ],
      "metadata": {
        "colab": {
          "base_uri": "https://localhost:8080/"
        },
        "id": "tX3zlft6PDOS",
        "outputId": "10103336-f812-49c7-b345-d6a35a43a0ef"
      },
      "execution_count": 8,
      "outputs": [
        {
          "output_type": "stream",
          "name": "stdout",
          "text": [
            "Looking in indexes: https://pypi.org/simple, https://us-python.pkg.dev/colab-wheels/public/simple/\n",
            "Collecting transformers\n",
            "  Downloading transformers-4.24.0-py3-none-any.whl (5.5 MB)\n",
            "\u001b[K     |████████████████████████████████| 5.5 MB 4.7 MB/s \n",
            "\u001b[?25hCollecting huggingface-hub<1.0,>=0.10.0\n",
            "  Downloading huggingface_hub-0.11.0-py3-none-any.whl (182 kB)\n",
            "\u001b[K     |████████████████████████████████| 182 kB 63.9 MB/s \n",
            "\u001b[?25hRequirement already satisfied: tqdm>=4.27 in /usr/local/lib/python3.7/dist-packages (from transformers) (4.64.1)\n",
            "Requirement already satisfied: pyyaml>=5.1 in /usr/local/lib/python3.7/dist-packages (from transformers) (6.0)\n",
            "Requirement already satisfied: importlib-metadata in /usr/local/lib/python3.7/dist-packages (from transformers) (4.13.0)\n",
            "Requirement already satisfied: packaging>=20.0 in /usr/local/lib/python3.7/dist-packages (from transformers) (21.3)\n",
            "Requirement already satisfied: regex!=2019.12.17 in /usr/local/lib/python3.7/dist-packages (from transformers) (2022.6.2)\n",
            "Requirement already satisfied: numpy>=1.17 in /usr/local/lib/python3.7/dist-packages (from transformers) (1.21.6)\n",
            "Requirement already satisfied: filelock in /usr/local/lib/python3.7/dist-packages (from transformers) (3.8.0)\n",
            "Collecting tokenizers!=0.11.3,<0.14,>=0.11.1\n",
            "  Downloading tokenizers-0.13.2-cp37-cp37m-manylinux_2_17_x86_64.manylinux2014_x86_64.whl (7.6 MB)\n",
            "\u001b[K     |████████████████████████████████| 7.6 MB 30.5 MB/s \n",
            "\u001b[?25hRequirement already satisfied: requests in /usr/local/lib/python3.7/dist-packages (from transformers) (2.23.0)\n",
            "Requirement already satisfied: typing-extensions>=3.7.4.3 in /usr/local/lib/python3.7/dist-packages (from huggingface-hub<1.0,>=0.10.0->transformers) (4.1.1)\n",
            "Requirement already satisfied: pyparsing!=3.0.5,>=2.0.2 in /usr/local/lib/python3.7/dist-packages (from packaging>=20.0->transformers) (3.0.9)\n",
            "Requirement already satisfied: zipp>=0.5 in /usr/local/lib/python3.7/dist-packages (from importlib-metadata->transformers) (3.10.0)\n",
            "Requirement already satisfied: certifi>=2017.4.17 in /usr/local/lib/python3.7/dist-packages (from requests->transformers) (2022.9.24)\n",
            "Requirement already satisfied: chardet<4,>=3.0.2 in /usr/local/lib/python3.7/dist-packages (from requests->transformers) (3.0.4)\n",
            "Requirement already satisfied: urllib3!=1.25.0,!=1.25.1,<1.26,>=1.21.1 in /usr/local/lib/python3.7/dist-packages (from requests->transformers) (1.24.3)\n",
            "Requirement already satisfied: idna<3,>=2.5 in /usr/local/lib/python3.7/dist-packages (from requests->transformers) (2.10)\n",
            "Installing collected packages: tokenizers, huggingface-hub, transformers\n",
            "Successfully installed huggingface-hub-0.11.0 tokenizers-0.13.2 transformers-4.24.0\n"
          ]
        }
      ]
    },
    {
      "cell_type": "code",
      "execution_count": 10,
      "metadata": {
        "id": "mgXHv4PUIRFn"
      },
      "outputs": [],
      "source": [
        "def clean_and_get_tokens(doc):\n",
        "    tokens = doc.split()\n",
        "    table = str.maketrans('','',punctuation)  #removes punctuations using \n",
        "    tokens = [w.translate(table) for w in tokens] #dictionary of punctuations\n",
        "    tokens = [word for word in tokens if word.isalpha()]\n",
        "    stop_words = set(stopwords.words('english'))\n",
        "    tokens = [w for w in tokens if not w in stop_words]\n",
        "    tokens = [word for word in tokens if len(word)>2]\n",
        "    return tokens"
      ]
    },
    {
      "cell_type": "code",
      "execution_count": 9,
      "metadata": {
        "id": "Lo6HutdZIUaT",
        "colab": {
          "base_uri": "https://localhost:8080/"
        },
        "outputId": "7255b674-53b4-4dda-e48d-66700f4bf289"
      },
      "outputs": [
        {
          "output_type": "stream",
          "name": "stderr",
          "text": [
            "[nltk_data] Downloading package stopwords to /root/nltk_data...\n",
            "[nltk_data]   Unzipping corpora/stopwords.zip.\n"
          ]
        }
      ],
      "source": [
        "words = set()\n",
        "vocab = {}\n",
        "import nltk\n",
        "nltk.download('stopwords')\n",
        "from nltk.corpus import stopwords"
      ]
    },
    {
      "cell_type": "code",
      "execution_count": 11,
      "metadata": {
        "id": "bgtTNQlWIWcQ",
        "colab": {
          "base_uri": "https://localhost:8080/"
        },
        "outputId": "5b745295-3c07-4801-a9e7-7b010a87438a"
      },
      "outputs": [
        {
          "output_type": "stream",
          "name": "stdout",
          "text": [
            "-------------------------------- E:/BigData/Project/Run/Files_Keywords/TextFiles\\0006174v1.txt -------------------------------- (6), and the dynamical equation for , the complete behaviour of our model is similar  to the friedmann cosmology.in  the original einsteins proposal the cosmological term was exactly a constant introduced  by hand in einstein hilbert lagrangean as a kind of force opposite to that of gravitation.in accordance with [2] we choose  = (a), where a means the scale factor for  friedmann-robertson-walker universe.on taking  = 1 the following solutions is found.fcpnunes@cce.ufes.br/maria@gbl.com.br  khanna@phys.ualberta.ca  \f2  introduction  in the last few years several paper [1, 5] have appeared discussing the cosmological  constant problem when that term is considered as part of the content of the universe.the analyse of this problem with  = bam for m 6= 2 is presently being considered for the same initial hypothesis and the equation of state will be obtained.in the einsteins equation the cosmological term appears on the left side and its meaning is  only geometrical, as must be in the general relativity.some solutions for equation (9)  the dynamic equation for the scale factor a(t) have solutions for particular values of  .it is clear that all possibilities have an origin in time exactly the  same way as the standard cosmology where the cosmological term is a constant.however the solutions that are found for almost at space time, k = 0 [1] or  under particular hypothesis and numerically are approximate solutions.(1) and (2), the robertson-walker line  element and the fact that the cosmological term here is not a constant but a function of  time, one can show [1] that the equation which governs the behavior of the scale factor  in the presence of a cosmological term, , a constant like in the original einstein model  is given by.see the plot for  = 1/2 and k = 0, +1 at the end of the paper  \f7  conclusions and comments  we have found direct solutions of a non linear dierential equation which describes the  dynamics for scale factor when the cosmological term is a function of time.the dot means time derivative.now there is a possibility that the cosmological term may be time dependent.the possibility that cosmological term is a time varying function does not change the  usual picture of the friedmann cosmology when we choose the evolution law eq.thus the cosmological term is written as  (a) = ba2  (8)  where b is a pure number of the order 1 and a is a function of time.the central equation which describes that evolution for scale factor with cosmological  term whether or not it is a function of time is shown here (7) and elsewhere [1, 2].in the new context the cosmological term could be a function of time with large  possibilities for evolution in time to cosmological term [1].abstract  0 0 0 2     n u j    2 2       1 v 4 7 1 6 0 0 0 / h t - p e h : v i x r a  the cosmological term is assumed to be a function of time such as  = ba2 where  a(t) means the scale factor of standard cosmology. -------------------------------- \n",
            "['', 'EBigDataProjectRunFilesKeywordsTextFiles0006174v1txt', '', '6', 'and', 'the', 'dynamical', 'equation', 'for', '', 'the', 'complete', 'behaviour', 'of', 'our', 'model', 'is', 'similar', 'to', 'the', 'friedmann', 'cosmologyin', 'the', 'original', 'einsteins', 'proposal', 'the', 'cosmological', 'term', 'was', 'exactly', 'a', 'constant', 'introduced', 'by', 'hand', 'in', 'einstein', 'hilbert', 'lagrangean', 'as', 'a', 'kind', 'of', 'force', 'opposite', 'to', 'that', 'of', 'gravitationin', 'accordance', 'with', '2', 'we', 'choose', '', 'a', 'where', 'a', 'means', 'the', 'scale', 'factor', 'for', 'friedmannrobertsonwalker', 'universeon', 'taking', '', '1', 'the', 'following', 'solutions', 'is', 'foundfcpnunescceufesbrmariagblcombr', 'khannaphysualbertaca', '2', 'introduction', 'in', 'the', 'last', 'few', 'years', 'several', 'paper', '1', '5', 'have', 'appeared', 'discussing', 'the', 'cosmological', 'constant', 'problem', 'when', 'that', 'term', 'is', 'considered', 'as', 'part', 'of', 'the', 'content', 'of', 'the', 'universethe', 'analyse', 'of', 'this', 'problem', 'with', '', 'bam', 'for', 'm', '6', '2', 'is', 'presently', 'being', 'considered', 'for', 'the', 'same', 'initial', 'hypothesis', 'and', 'the', 'equation', 'of', 'state', 'will', 'be', 'obtainedin', 'the', 'einsteins', 'equation', 'the', 'cosmological', 'term', 'appears', 'on', 'the', 'left', 'side', 'and', 'its', 'meaning', 'is', 'only', 'geometrical', 'as', 'must', 'be', 'in', 'the', 'general', 'relativitysome', 'solutions', 'for', 'equation', '9', 'the', 'dynamic', 'equation', 'for', 'the', 'scale', 'factor', 'at', 'have', 'solutions', 'for', 'particular', 'values', 'of', 'it', 'is', 'clear', 'that', 'all', 'possibilities', 'have', 'an', 'origin', 'in', 'time', 'exactly', 'the', 'same', 'way', 'as', 'the', 'standard', 'cosmology', 'where', 'the', 'cosmological', 'term', 'is', 'a', 'constanthowever', 'the', 'solutions', 'that', 'are', 'found', 'for', 'almost', 'at', 'space', 'time', 'k', '', '0', '1', 'or', 'under', 'particular', 'hypothesis', 'and', 'numerically', 'are', 'approximate', 'solutions1', 'and', '2', 'the', 'robertsonwalker', 'line', 'element', 'and', 'the', 'fact', 'that', 'the', 'cosmological', 'term', 'here', 'is', 'not', 'a', 'constant', 'but', 'a', 'function', 'of', 'time', 'one', 'can', 'show', '1', 'that', 'the', 'equation', 'which', 'governs', 'the', 'behavior', 'of', 'the', 'scale', 'factor', 'in', 'the', 'presence', 'of', 'a', 'cosmological', 'term', '', 'a', 'constant', 'like', 'in', 'the', 'original', 'einstein', 'model', 'is', 'given', 'bysee', 'the', 'plot', 'for', '', '12', 'and', 'k', '', '0', '1', 'at', 'the', 'end', 'of', 'the', 'paper', '7', 'conclusions', 'and', 'comments', 'we', 'have', 'found', 'direct', 'solutions', 'of', 'a', 'non', 'linear', 'dierential', 'equation', 'which', 'describes', 'the', 'dynamics', 'for', 'scale', 'factor', 'when', 'the', 'cosmological', 'term', 'is', 'a', 'function', 'of', 'timethe', 'dot', 'means', 'time', 'derivativenow', 'there', 'is', 'a', 'possibility', 'that', 'the', 'cosmological', 'term', 'may', 'be', 'time', 'dependentthe', 'possibility', 'that', 'cosmological', 'term', 'is', 'a', 'time', 'varying', 'function', 'does', 'not', 'change', 'the', 'usual', 'picture', 'of', 'the', 'friedmann', 'cosmology', 'when', 'we', 'choose', 'the', 'evolution', 'law', 'eqthus', 'the', 'cosmological', 'term', 'is', 'written', 'as', 'a', '', 'ba2', '8', 'where', 'b', 'is', 'a', 'pure', 'number', 'of', 'the', 'order', '1', 'and', 'a', 'is', 'a', 'function', 'of', 'timethe', 'central', 'equation', 'which', 'describes', 'that', 'evolution', 'for', 'scale', 'factor', 'with', 'cosmological', 'term', 'whether', 'or', 'not', 'it', 'is', 'a', 'function', 'of', 'time', 'is', 'shown', 'here', '7', 'and', 'elsewhere', '1', '2in', 'the', 'new', 'context', 'the', 'cosmological', 'term', 'could', 'be', 'a', 'function', 'of', 'time', 'with', 'large', 'possibilities', 'for', 'evolution', 'in', 'time', 'to', 'cosmological', 'term', '1abstract', '0', '0', '0', '2', 'n', 'u', 'j', '2', '2', '1', 'v', '4', '7', '1', '6', '0', '0', '0', '', 'h', 't', '', 'p', 'e', 'h', '', 'v', 'i', 'x', 'r', 'a', 'the', 'cosmological', 'term', 'is', 'assumed', 'to', 'be', 'a', 'function', 'of', 'time', 'such', 'as', '', 'ba2', 'where', 'at', 'means', 'the', 'scale', 'factor', 'of', 'standard', 'cosmology', '']\n",
            "['dynamical', 'equation', 'complete', 'behaviour', 'model', 'similar', 'friedmann', 'cosmologyin', 'original', 'einsteins', 'proposal', 'cosmological', 'term', 'exactly', 'constant', 'introduced', 'hand', 'einstein', 'hilbert', 'lagrangean', 'kind', 'force', 'opposite', 'gravitationin', 'accordance', 'choose', 'means', 'scale', 'factor', 'friedmannrobertsonwalker', 'universeon', 'taking', 'following', 'solutions', 'foundfcpnunescceufesbrmariagblcombr', 'khannaphysualbertaca', 'introduction', 'last', 'years', 'several', 'paper', 'appeared', 'discussing', 'cosmological', 'constant', 'problem', 'term', 'considered', 'part', 'content', 'universethe', 'analyse', 'problem', 'bam', 'presently', 'considered', 'initial', 'hypothesis', 'equation', 'state', 'obtainedin', 'einsteins', 'equation', 'cosmological', 'term', 'appears', 'left', 'side', 'meaning', 'geometrical', 'must', 'general', 'relativitysome', 'solutions', 'equation', 'dynamic', 'equation', 'scale', 'factor', 'solutions', 'particular', 'values', 'clear', 'possibilities', 'origin', 'time', 'exactly', 'way', 'standard', 'cosmology', 'cosmological', 'term', 'constanthowever', 'solutions', 'found', 'almost', 'space', 'time', 'particular', 'hypothesis', 'numerically', 'approximate', 'robertsonwalker', 'line', 'element', 'fact', 'cosmological', 'term', 'constant', 'function', 'time', 'one', 'show', 'equation', 'governs', 'behavior', 'scale', 'factor', 'presence', 'cosmological', 'term', 'constant', 'like', 'original', 'einstein', 'model', 'given', 'bysee', 'plot', 'end', 'paper', 'conclusions', 'comments', 'found', 'direct', 'solutions', 'non', 'linear', 'dierential', 'equation', 'describes', 'dynamics', 'scale', 'factor', 'cosmological', 'term', 'function', 'timethe', 'dot', 'means', 'time', 'derivativenow', 'possibility', 'cosmological', 'term', 'may', 'time', 'dependentthe', 'possibility', 'cosmological', 'term', 'time', 'varying', 'function', 'change', 'usual', 'picture', 'friedmann', 'cosmology', 'choose', 'evolution', 'law', 'eqthus', 'cosmological', 'term', 'written', 'pure', 'number', 'order', 'function', 'timethe', 'central', 'equation', 'describes', 'evolution', 'scale', 'factor', 'cosmological', 'term', 'whether', 'function', 'time', 'shown', 'elsewhere', 'new', 'context', 'cosmological', 'term', 'could', 'function', 'time', 'large', 'possibilities', 'evolution', 'time', 'cosmological', 'term', 'cosmological', 'term', 'assumed', 'function', 'time', 'means', 'scale', 'factor', 'standard', 'cosmology']\n"
          ]
        }
      ],
      "source": [
        "token = data_frame['texts'][0].split()\n",
        "print(data_frame['texts'][0])\n",
        "table = str.maketrans('','',punctuation)\n",
        "tokens = [w.translate(table) for w in token] \n",
        "print(tokens)\n",
        "tokens = [word for word in tokens if word.isalpha()]\n",
        "stop_words = set(stopwords.words('english'))\n",
        "tokens = [w for w in tokens if not w in stop_words]\n",
        "tokens = [word for word in tokens if len(word)>2]\n",
        "print(tokens)"
      ]
    },
    {
      "cell_type": "code",
      "execution_count": 12,
      "metadata": {
        "id": "O5jnHlADIYtG"
      },
      "outputs": [],
      "source": [
        "documents = data_frame['texts']\n",
        "for doc in documents:\n",
        "    tokens = clean_and_get_tokens(doc)\n",
        "    for token in tokens:\n",
        "        if token in vocab:\n",
        "            vocab[token] += 1\n",
        "        else:\n",
        "            vocab[token] = 1\n",
        "\n",
        "for word in vocab:\n",
        "    if vocab[word] > 5:\n",
        "        words.add(word)"
      ]
    },
    {
      "cell_type": "code",
      "execution_count": 13,
      "metadata": {
        "id": "MN7jdvrZId57",
        "colab": {
          "base_uri": "https://localhost:8080/"
        },
        "outputId": "8e689fdd-8a0f-4b91-8ec3-948d751be923"
      },
      "outputs": [
        {
          "output_type": "stream",
          "name": "stdout",
          "text": [
            "dynamical equation complete behaviour model similar friedmann original einsteins proposal cosmological term exactly constant introduced hand einstein hilbert lagrangean kind force opposite accordance choose means scale factor taking following solutions introduction last years several paper appeared discussing cosmological constant problem term considered part content analyse problem presently considered initial hypothesis equation state einsteins equation cosmological term appears left side meaning must general solutions equation dynamic equation scale factor solutions particular values clear possibilities origin time exactly way standard cosmology cosmological term solutions found almost space particular hypothesis numerically approximate line element fact cosmological term constant function one show equation governs behavior scale factor presence cosmological constant like original einstein model given plot end paper conclusions comments found direct solutions non linear dierential equation describes dynamics scale factor cosmological term function dot means time possibility cosmological term may time possibility cosmological term time varying function change usual picture friedmann cosmology choose evolution law cosmological term written pure number order function central equation describes evolution scale factor cosmological term whether function time shown elsewhere new context cosmological term could function time large possibilities evolution time cosmological term cosmological term assumed function time means scale factor standard\n"
          ]
        }
      ],
      "source": [
        "train_documents = []\n",
        "train_data=data_frame\n",
        "for doc in train_data['texts']:\n",
        "    tokens = doc.split()\n",
        "    final_tokens = []\n",
        "    \n",
        "    for token in tokens:\n",
        "        if token in words:\n",
        "            final_tokens.append(token)\n",
        "    final_string = ' '.join(final_tokens)\n",
        "    train_documents.append(final_string)\n",
        "print(train_documents[0])"
      ]
    },
    {
      "cell_type": "code",
      "execution_count": 14,
      "metadata": {
        "id": "2vR5bQdOIfwo",
        "colab": {
          "base_uri": "https://localhost:8080/",
          "height": 81,
          "referenced_widgets": [
            "1ff2159dc0c14b77b68a26bb96f4012b",
            "18e3d77dc4964348b1c6464381db2c5d",
            "b48eea1dfc26416aa8c35de271425e6d",
            "03d7d34d4758485a9f8de245a95d2fa9",
            "040fc4a9ceb2414bad6ff261f049b4a1",
            "661d7387e7614d279faabb6512f78a89",
            "10ee1b2ab30c49389faa14a6614a59a3",
            "b204507c244a4785a1274130f9e208e1",
            "e359119647214a0e9a8c346e2c1cb639",
            "03554aa5be4143d2b8d3c399bffa1976",
            "840939da49754f7ebcd46165600e3233",
            "55132870aff744a580b10298a5ba0ddc",
            "2e594f5e5f4b4490b456071d6ee1ee9b",
            "92bd03b44f454bf78a0f749eaf2ceb4a",
            "9e789d06eb154307800256a2bd0fdf73",
            "4cd95feb549545119c00ca9deafd6c36",
            "7b881675fb614507a94678974ebbd137",
            "bd424471c1e94c0980013846f0d80747",
            "4080772cd08d4c4b85eef08bb0c645c9",
            "2b6f5d44c5114e2c861e0e95f4be5c9b",
            "821e6fdc51c24fb4a05b6d760682caee",
            "296b0e1d2aa64f6fbf245b60a66baede"
          ]
        },
        "outputId": "a63b0d3b-67b9-4cb0-96ba-67ff9a5b0f47"
      },
      "outputs": [
        {
          "output_type": "display_data",
          "data": {
            "text/plain": [
              "Downloading:   0%|          | 0.00/385 [00:00<?, ?B/s]"
            ],
            "application/vnd.jupyter.widget-view+json": {
              "version_major": 2,
              "version_minor": 0,
              "model_id": "1ff2159dc0c14b77b68a26bb96f4012b"
            }
          },
          "metadata": {}
        },
        {
          "output_type": "display_data",
          "data": {
            "text/plain": [
              "Downloading:   0%|          | 0.00/228k [00:00<?, ?B/s]"
            ],
            "application/vnd.jupyter.widget-view+json": {
              "version_major": 2,
              "version_minor": 0,
              "model_id": "55132870aff744a580b10298a5ba0ddc"
            }
          },
          "metadata": {}
        }
      ],
      "source": [
        "#tokenizer = Tokenizer()\n",
        "#tokenizer.fit_on_texts(train_documents)\n",
        "#encoded_docs = tokenizer.texts_to_sequences(train_documents)\n",
        "from transformers import AutoTokenizer\n",
        "\n",
        "tz = AutoTokenizer.from_pretrained('allenai/scibert_scivocab_uncased')\n",
        "for i in range (0,len(train_documents)):\n",
        "  tz.tokenize(train_documents[i])\n",
        "encoded_docs = []\n",
        "for i in range(0,len(train_documents)):\n",
        "  encoded_docs.append(tz.convert_tokens_to_ids(tz.tokenize(train_documents[i])))"
      ]
    },
    {
      "cell_type": "code",
      "source": [
        "max_length = max(([len(s.split()) for s in train_documents]))\n",
        "Xtrain = pad_sequences(encoded_docs, maxlen=745, padding='post')\n",
        "print(Xtrain)"
      ],
      "metadata": {
        "colab": {
          "base_uri": "https://localhost:8080/"
        },
        "id": "Cn0KL0tlY78C",
        "outputId": "d8c0e8ea-7ed2-4b13-d3ad-d4a55d929f03"
      },
      "execution_count": 15,
      "outputs": [
        {
          "output_type": "stream",
          "name": "stdout",
          "text": [
            "[[10245  2037  2467 ...     0     0     0]\n",
            " [  993 12829  1532 ...     0     0     0]\n",
            " [ 3790  3676 18916 ...     0     0     0]\n",
            " ...\n",
            " [ 1196  4001 15811 ...     0     0     0]\n",
            " [  959  7176  1245 ...     0     0     0]\n",
            " [ 1532  1157   585 ...     0     0     0]]\n"
          ]
        }
      ]
    },
    {
      "cell_type": "code",
      "execution_count": 17,
      "metadata": {
        "id": "LaXHSImR0wdm"
      },
      "outputs": [],
      "source": [
        "from tensorflow import keras\n",
        "model = keras.models.load_model('/content/drive/MyDrive/trained models/Train.h5')"
      ]
    },
    {
      "cell_type": "code",
      "execution_count": 18,
      "metadata": {
        "id": "znbiIwugShWa",
        "colab": {
          "base_uri": "https://localhost:8080/"
        },
        "outputId": "ea09ba26-c372-4a4b-dfb6-b9fe381f55fa"
      },
      "outputs": [
        {
          "output_type": "stream",
          "name": "stdout",
          "text": [
            "277/277 [==============================] - 13s 46ms/step\n"
          ]
        }
      ],
      "source": [
        "import tensorflow as tf\n",
        "sess=tf.compat.v1.InteractiveSession()\n",
        "\n",
        "predictions=model.predict(Xtrain)\n",
        "\n",
        "indexes = tf.argmax(predictions, axis=1)\n",
        "answers=indexes.numpy()"
      ]
    },
    {
      "cell_type": "code",
      "execution_count": 19,
      "metadata": {
        "id": "UgXP9dWpPFDk"
      },
      "outputs": [],
      "source": [
        "res = pd.DataFrame(answers)\n",
        "#res.index = pokis # its important for comparison\n",
        "res.columns = [\"prediction\"]\n",
        "#res.to_csv(\"prediction1994-2003.csv\")"
      ]
    },
    {
      "cell_type": "code",
      "source": [
        "test=[]\n",
        "for i in range(len(paths)):\n",
        "    \n",
        "    print(paths[i])\n",
        "    for j in os.listdir(paths[i]):\n",
        "        x=int(re.findall(r'\\d+',j)[0])\n",
        "        if x in terms:\n",
        "          indx=terms.index(x)\n",
        "          test.append([x,actual[indx]])"
      ],
      "metadata": {
        "colab": {
          "base_uri": "https://localhost:8080/"
        },
        "id": "Y-jpa1vSENBK",
        "outputId": "24431c9a-ec82-4ba0-9a2a-53309d85f045"
      },
      "execution_count": 20,
      "outputs": [
        {
          "output_type": "stream",
          "name": "stdout",
          "text": [
            "/content/drive/MyDrive/Hepth Deep Text/2000 hepth deep texts\n",
            "/content/drive/MyDrive/Hepth Deep Text/2001 hepth deep texts\n",
            "/content/drive/MyDrive/Hepth Deep Text/2002 hepth deep texts\n",
            "/content/drive/MyDrive/Hepth Deep Text/2003 hepth deep texts\n"
          ]
        }
      ]
    },
    {
      "cell_type": "code",
      "source": [
        "final=[]\n",
        "yact,ypred=[],[]\n",
        "for a,b in zip(test,answers):\n",
        "  yact.append(a[1])\n",
        "  ypred.append(b)\n",
        "  final.append([a[0],b,a[1]])\n",
        "print(final[1])"
      ],
      "metadata": {
        "colab": {
          "base_uri": "https://localhost:8080/"
        },
        "id": "G3F22WDUEtah",
        "outputId": "7ed1ae3a-6a0f-4d6c-e404-4e3f9886898d"
      },
      "execution_count": 21,
      "outputs": [
        {
          "output_type": "stream",
          "name": "stdout",
          "text": [
            "[6175, 0, 0]\n"
          ]
        }
      ]
    },
    {
      "cell_type": "code",
      "source": [
        "from sklearn.metrics import classification_report\n",
        "target_names = ['class 0', 'class 1', ]\n",
        "print(classification_report(yact, ypred, target_names=target_names))"
      ],
      "metadata": {
        "colab": {
          "base_uri": "https://localhost:8080/"
        },
        "id": "4Zg6KqnCMHpY",
        "outputId": "939fbb0c-92b3-4cc6-f971-69e0d8154c76"
      },
      "execution_count": 22,
      "outputs": [
        {
          "output_type": "stream",
          "name": "stdout",
          "text": [
            "              precision    recall  f1-score   support\n",
            "\n",
            "     class 0       0.74      0.85      0.79      6582\n",
            "     class 1       0.24      0.14      0.18      2253\n",
            "\n",
            "    accuracy                           0.67      8835\n",
            "   macro avg       0.49      0.50      0.49      8835\n",
            "weighted avg       0.62      0.67      0.64      8835\n",
            "\n"
          ]
        }
      ]
    },
    {
      "cell_type": "code",
      "source": [
        "final=pd.DataFrame(final)\n",
        "print(final.head())\n",
        "final.columns=['FileName','Predicted','Actual']\n",
        "final.to_csv('RESULTS.csv',index=None)"
      ],
      "metadata": {
        "colab": {
          "base_uri": "https://localhost:8080/"
        },
        "id": "ieN1bQ5bFJZG",
        "outputId": "623cd710-f365-45be-c9da-afaf29e7114c"
      },
      "execution_count": 23,
      "outputs": [
        {
          "output_type": "stream",
          "name": "stdout",
          "text": [
            "      0  1  2\n",
            "0  6174  0  0\n",
            "1  6175  0  0\n",
            "2  6176  0  0\n",
            "3  6177  0  0\n",
            "4  6178  0  0\n"
          ]
        }
      ]
    }
  ],
  "metadata": {
    "accelerator": "TPU",
    "colab": {
      "provenance": [],
      "include_colab_link": true
    },
    "kernelspec": {
      "display_name": "Python 3",
      "language": "python",
      "name": "python3"
    },
    "language_info": {
      "codemirror_mode": {
        "name": "ipython",
        "version": 3
      },
      "file_extension": ".py",
      "mimetype": "text/x-python",
      "name": "python",
      "nbconvert_exporter": "python",
      "pygments_lexer": "ipython3",
      "version": "3.8.10"
    },
    "widgets": {
      "application/vnd.jupyter.widget-state+json": {
        "1ff2159dc0c14b77b68a26bb96f4012b": {
          "model_module": "@jupyter-widgets/controls",
          "model_name": "HBoxModel",
          "model_module_version": "1.5.0",
          "state": {
            "_dom_classes": [],
            "_model_module": "@jupyter-widgets/controls",
            "_model_module_version": "1.5.0",
            "_model_name": "HBoxModel",
            "_view_count": null,
            "_view_module": "@jupyter-widgets/controls",
            "_view_module_version": "1.5.0",
            "_view_name": "HBoxView",
            "box_style": "",
            "children": [
              "IPY_MODEL_18e3d77dc4964348b1c6464381db2c5d",
              "IPY_MODEL_b48eea1dfc26416aa8c35de271425e6d",
              "IPY_MODEL_03d7d34d4758485a9f8de245a95d2fa9"
            ],
            "layout": "IPY_MODEL_040fc4a9ceb2414bad6ff261f049b4a1"
          }
        },
        "18e3d77dc4964348b1c6464381db2c5d": {
          "model_module": "@jupyter-widgets/controls",
          "model_name": "HTMLModel",
          "model_module_version": "1.5.0",
          "state": {
            "_dom_classes": [],
            "_model_module": "@jupyter-widgets/controls",
            "_model_module_version": "1.5.0",
            "_model_name": "HTMLModel",
            "_view_count": null,
            "_view_module": "@jupyter-widgets/controls",
            "_view_module_version": "1.5.0",
            "_view_name": "HTMLView",
            "description": "",
            "description_tooltip": null,
            "layout": "IPY_MODEL_661d7387e7614d279faabb6512f78a89",
            "placeholder": "​",
            "style": "IPY_MODEL_10ee1b2ab30c49389faa14a6614a59a3",
            "value": "Downloading: 100%"
          }
        },
        "b48eea1dfc26416aa8c35de271425e6d": {
          "model_module": "@jupyter-widgets/controls",
          "model_name": "FloatProgressModel",
          "model_module_version": "1.5.0",
          "state": {
            "_dom_classes": [],
            "_model_module": "@jupyter-widgets/controls",
            "_model_module_version": "1.5.0",
            "_model_name": "FloatProgressModel",
            "_view_count": null,
            "_view_module": "@jupyter-widgets/controls",
            "_view_module_version": "1.5.0",
            "_view_name": "ProgressView",
            "bar_style": "success",
            "description": "",
            "description_tooltip": null,
            "layout": "IPY_MODEL_b204507c244a4785a1274130f9e208e1",
            "max": 385,
            "min": 0,
            "orientation": "horizontal",
            "style": "IPY_MODEL_e359119647214a0e9a8c346e2c1cb639",
            "value": 385
          }
        },
        "03d7d34d4758485a9f8de245a95d2fa9": {
          "model_module": "@jupyter-widgets/controls",
          "model_name": "HTMLModel",
          "model_module_version": "1.5.0",
          "state": {
            "_dom_classes": [],
            "_model_module": "@jupyter-widgets/controls",
            "_model_module_version": "1.5.0",
            "_model_name": "HTMLModel",
            "_view_count": null,
            "_view_module": "@jupyter-widgets/controls",
            "_view_module_version": "1.5.0",
            "_view_name": "HTMLView",
            "description": "",
            "description_tooltip": null,
            "layout": "IPY_MODEL_03554aa5be4143d2b8d3c399bffa1976",
            "placeholder": "​",
            "style": "IPY_MODEL_840939da49754f7ebcd46165600e3233",
            "value": " 385/385 [00:00&lt;00:00, 6.04kB/s]"
          }
        },
        "040fc4a9ceb2414bad6ff261f049b4a1": {
          "model_module": "@jupyter-widgets/base",
          "model_name": "LayoutModel",
          "model_module_version": "1.2.0",
          "state": {
            "_model_module": "@jupyter-widgets/base",
            "_model_module_version": "1.2.0",
            "_model_name": "LayoutModel",
            "_view_count": null,
            "_view_module": "@jupyter-widgets/base",
            "_view_module_version": "1.2.0",
            "_view_name": "LayoutView",
            "align_content": null,
            "align_items": null,
            "align_self": null,
            "border": null,
            "bottom": null,
            "display": null,
            "flex": null,
            "flex_flow": null,
            "grid_area": null,
            "grid_auto_columns": null,
            "grid_auto_flow": null,
            "grid_auto_rows": null,
            "grid_column": null,
            "grid_gap": null,
            "grid_row": null,
            "grid_template_areas": null,
            "grid_template_columns": null,
            "grid_template_rows": null,
            "height": null,
            "justify_content": null,
            "justify_items": null,
            "left": null,
            "margin": null,
            "max_height": null,
            "max_width": null,
            "min_height": null,
            "min_width": null,
            "object_fit": null,
            "object_position": null,
            "order": null,
            "overflow": null,
            "overflow_x": null,
            "overflow_y": null,
            "padding": null,
            "right": null,
            "top": null,
            "visibility": null,
            "width": null
          }
        },
        "661d7387e7614d279faabb6512f78a89": {
          "model_module": "@jupyter-widgets/base",
          "model_name": "LayoutModel",
          "model_module_version": "1.2.0",
          "state": {
            "_model_module": "@jupyter-widgets/base",
            "_model_module_version": "1.2.0",
            "_model_name": "LayoutModel",
            "_view_count": null,
            "_view_module": "@jupyter-widgets/base",
            "_view_module_version": "1.2.0",
            "_view_name": "LayoutView",
            "align_content": null,
            "align_items": null,
            "align_self": null,
            "border": null,
            "bottom": null,
            "display": null,
            "flex": null,
            "flex_flow": null,
            "grid_area": null,
            "grid_auto_columns": null,
            "grid_auto_flow": null,
            "grid_auto_rows": null,
            "grid_column": null,
            "grid_gap": null,
            "grid_row": null,
            "grid_template_areas": null,
            "grid_template_columns": null,
            "grid_template_rows": null,
            "height": null,
            "justify_content": null,
            "justify_items": null,
            "left": null,
            "margin": null,
            "max_height": null,
            "max_width": null,
            "min_height": null,
            "min_width": null,
            "object_fit": null,
            "object_position": null,
            "order": null,
            "overflow": null,
            "overflow_x": null,
            "overflow_y": null,
            "padding": null,
            "right": null,
            "top": null,
            "visibility": null,
            "width": null
          }
        },
        "10ee1b2ab30c49389faa14a6614a59a3": {
          "model_module": "@jupyter-widgets/controls",
          "model_name": "DescriptionStyleModel",
          "model_module_version": "1.5.0",
          "state": {
            "_model_module": "@jupyter-widgets/controls",
            "_model_module_version": "1.5.0",
            "_model_name": "DescriptionStyleModel",
            "_view_count": null,
            "_view_module": "@jupyter-widgets/base",
            "_view_module_version": "1.2.0",
            "_view_name": "StyleView",
            "description_width": ""
          }
        },
        "b204507c244a4785a1274130f9e208e1": {
          "model_module": "@jupyter-widgets/base",
          "model_name": "LayoutModel",
          "model_module_version": "1.2.0",
          "state": {
            "_model_module": "@jupyter-widgets/base",
            "_model_module_version": "1.2.0",
            "_model_name": "LayoutModel",
            "_view_count": null,
            "_view_module": "@jupyter-widgets/base",
            "_view_module_version": "1.2.0",
            "_view_name": "LayoutView",
            "align_content": null,
            "align_items": null,
            "align_self": null,
            "border": null,
            "bottom": null,
            "display": null,
            "flex": null,
            "flex_flow": null,
            "grid_area": null,
            "grid_auto_columns": null,
            "grid_auto_flow": null,
            "grid_auto_rows": null,
            "grid_column": null,
            "grid_gap": null,
            "grid_row": null,
            "grid_template_areas": null,
            "grid_template_columns": null,
            "grid_template_rows": null,
            "height": null,
            "justify_content": null,
            "justify_items": null,
            "left": null,
            "margin": null,
            "max_height": null,
            "max_width": null,
            "min_height": null,
            "min_width": null,
            "object_fit": null,
            "object_position": null,
            "order": null,
            "overflow": null,
            "overflow_x": null,
            "overflow_y": null,
            "padding": null,
            "right": null,
            "top": null,
            "visibility": null,
            "width": null
          }
        },
        "e359119647214a0e9a8c346e2c1cb639": {
          "model_module": "@jupyter-widgets/controls",
          "model_name": "ProgressStyleModel",
          "model_module_version": "1.5.0",
          "state": {
            "_model_module": "@jupyter-widgets/controls",
            "_model_module_version": "1.5.0",
            "_model_name": "ProgressStyleModel",
            "_view_count": null,
            "_view_module": "@jupyter-widgets/base",
            "_view_module_version": "1.2.0",
            "_view_name": "StyleView",
            "bar_color": null,
            "description_width": ""
          }
        },
        "03554aa5be4143d2b8d3c399bffa1976": {
          "model_module": "@jupyter-widgets/base",
          "model_name": "LayoutModel",
          "model_module_version": "1.2.0",
          "state": {
            "_model_module": "@jupyter-widgets/base",
            "_model_module_version": "1.2.0",
            "_model_name": "LayoutModel",
            "_view_count": null,
            "_view_module": "@jupyter-widgets/base",
            "_view_module_version": "1.2.0",
            "_view_name": "LayoutView",
            "align_content": null,
            "align_items": null,
            "align_self": null,
            "border": null,
            "bottom": null,
            "display": null,
            "flex": null,
            "flex_flow": null,
            "grid_area": null,
            "grid_auto_columns": null,
            "grid_auto_flow": null,
            "grid_auto_rows": null,
            "grid_column": null,
            "grid_gap": null,
            "grid_row": null,
            "grid_template_areas": null,
            "grid_template_columns": null,
            "grid_template_rows": null,
            "height": null,
            "justify_content": null,
            "justify_items": null,
            "left": null,
            "margin": null,
            "max_height": null,
            "max_width": null,
            "min_height": null,
            "min_width": null,
            "object_fit": null,
            "object_position": null,
            "order": null,
            "overflow": null,
            "overflow_x": null,
            "overflow_y": null,
            "padding": null,
            "right": null,
            "top": null,
            "visibility": null,
            "width": null
          }
        },
        "840939da49754f7ebcd46165600e3233": {
          "model_module": "@jupyter-widgets/controls",
          "model_name": "DescriptionStyleModel",
          "model_module_version": "1.5.0",
          "state": {
            "_model_module": "@jupyter-widgets/controls",
            "_model_module_version": "1.5.0",
            "_model_name": "DescriptionStyleModel",
            "_view_count": null,
            "_view_module": "@jupyter-widgets/base",
            "_view_module_version": "1.2.0",
            "_view_name": "StyleView",
            "description_width": ""
          }
        },
        "55132870aff744a580b10298a5ba0ddc": {
          "model_module": "@jupyter-widgets/controls",
          "model_name": "HBoxModel",
          "model_module_version": "1.5.0",
          "state": {
            "_dom_classes": [],
            "_model_module": "@jupyter-widgets/controls",
            "_model_module_version": "1.5.0",
            "_model_name": "HBoxModel",
            "_view_count": null,
            "_view_module": "@jupyter-widgets/controls",
            "_view_module_version": "1.5.0",
            "_view_name": "HBoxView",
            "box_style": "",
            "children": [
              "IPY_MODEL_2e594f5e5f4b4490b456071d6ee1ee9b",
              "IPY_MODEL_92bd03b44f454bf78a0f749eaf2ceb4a",
              "IPY_MODEL_9e789d06eb154307800256a2bd0fdf73"
            ],
            "layout": "IPY_MODEL_4cd95feb549545119c00ca9deafd6c36"
          }
        },
        "2e594f5e5f4b4490b456071d6ee1ee9b": {
          "model_module": "@jupyter-widgets/controls",
          "model_name": "HTMLModel",
          "model_module_version": "1.5.0",
          "state": {
            "_dom_classes": [],
            "_model_module": "@jupyter-widgets/controls",
            "_model_module_version": "1.5.0",
            "_model_name": "HTMLModel",
            "_view_count": null,
            "_view_module": "@jupyter-widgets/controls",
            "_view_module_version": "1.5.0",
            "_view_name": "HTMLView",
            "description": "",
            "description_tooltip": null,
            "layout": "IPY_MODEL_7b881675fb614507a94678974ebbd137",
            "placeholder": "​",
            "style": "IPY_MODEL_bd424471c1e94c0980013846f0d80747",
            "value": "Downloading: 100%"
          }
        },
        "92bd03b44f454bf78a0f749eaf2ceb4a": {
          "model_module": "@jupyter-widgets/controls",
          "model_name": "FloatProgressModel",
          "model_module_version": "1.5.0",
          "state": {
            "_dom_classes": [],
            "_model_module": "@jupyter-widgets/controls",
            "_model_module_version": "1.5.0",
            "_model_name": "FloatProgressModel",
            "_view_count": null,
            "_view_module": "@jupyter-widgets/controls",
            "_view_module_version": "1.5.0",
            "_view_name": "ProgressView",
            "bar_style": "success",
            "description": "",
            "description_tooltip": null,
            "layout": "IPY_MODEL_4080772cd08d4c4b85eef08bb0c645c9",
            "max": 227845,
            "min": 0,
            "orientation": "horizontal",
            "style": "IPY_MODEL_2b6f5d44c5114e2c861e0e95f4be5c9b",
            "value": 227845
          }
        },
        "9e789d06eb154307800256a2bd0fdf73": {
          "model_module": "@jupyter-widgets/controls",
          "model_name": "HTMLModel",
          "model_module_version": "1.5.0",
          "state": {
            "_dom_classes": [],
            "_model_module": "@jupyter-widgets/controls",
            "_model_module_version": "1.5.0",
            "_model_name": "HTMLModel",
            "_view_count": null,
            "_view_module": "@jupyter-widgets/controls",
            "_view_module_version": "1.5.0",
            "_view_name": "HTMLView",
            "description": "",
            "description_tooltip": null,
            "layout": "IPY_MODEL_821e6fdc51c24fb4a05b6d760682caee",
            "placeholder": "​",
            "style": "IPY_MODEL_296b0e1d2aa64f6fbf245b60a66baede",
            "value": " 228k/228k [00:00&lt;00:00, 1.55MB/s]"
          }
        },
        "4cd95feb549545119c00ca9deafd6c36": {
          "model_module": "@jupyter-widgets/base",
          "model_name": "LayoutModel",
          "model_module_version": "1.2.0",
          "state": {
            "_model_module": "@jupyter-widgets/base",
            "_model_module_version": "1.2.0",
            "_model_name": "LayoutModel",
            "_view_count": null,
            "_view_module": "@jupyter-widgets/base",
            "_view_module_version": "1.2.0",
            "_view_name": "LayoutView",
            "align_content": null,
            "align_items": null,
            "align_self": null,
            "border": null,
            "bottom": null,
            "display": null,
            "flex": null,
            "flex_flow": null,
            "grid_area": null,
            "grid_auto_columns": null,
            "grid_auto_flow": null,
            "grid_auto_rows": null,
            "grid_column": null,
            "grid_gap": null,
            "grid_row": null,
            "grid_template_areas": null,
            "grid_template_columns": null,
            "grid_template_rows": null,
            "height": null,
            "justify_content": null,
            "justify_items": null,
            "left": null,
            "margin": null,
            "max_height": null,
            "max_width": null,
            "min_height": null,
            "min_width": null,
            "object_fit": null,
            "object_position": null,
            "order": null,
            "overflow": null,
            "overflow_x": null,
            "overflow_y": null,
            "padding": null,
            "right": null,
            "top": null,
            "visibility": null,
            "width": null
          }
        },
        "7b881675fb614507a94678974ebbd137": {
          "model_module": "@jupyter-widgets/base",
          "model_name": "LayoutModel",
          "model_module_version": "1.2.0",
          "state": {
            "_model_module": "@jupyter-widgets/base",
            "_model_module_version": "1.2.0",
            "_model_name": "LayoutModel",
            "_view_count": null,
            "_view_module": "@jupyter-widgets/base",
            "_view_module_version": "1.2.0",
            "_view_name": "LayoutView",
            "align_content": null,
            "align_items": null,
            "align_self": null,
            "border": null,
            "bottom": null,
            "display": null,
            "flex": null,
            "flex_flow": null,
            "grid_area": null,
            "grid_auto_columns": null,
            "grid_auto_flow": null,
            "grid_auto_rows": null,
            "grid_column": null,
            "grid_gap": null,
            "grid_row": null,
            "grid_template_areas": null,
            "grid_template_columns": null,
            "grid_template_rows": null,
            "height": null,
            "justify_content": null,
            "justify_items": null,
            "left": null,
            "margin": null,
            "max_height": null,
            "max_width": null,
            "min_height": null,
            "min_width": null,
            "object_fit": null,
            "object_position": null,
            "order": null,
            "overflow": null,
            "overflow_x": null,
            "overflow_y": null,
            "padding": null,
            "right": null,
            "top": null,
            "visibility": null,
            "width": null
          }
        },
        "bd424471c1e94c0980013846f0d80747": {
          "model_module": "@jupyter-widgets/controls",
          "model_name": "DescriptionStyleModel",
          "model_module_version": "1.5.0",
          "state": {
            "_model_module": "@jupyter-widgets/controls",
            "_model_module_version": "1.5.0",
            "_model_name": "DescriptionStyleModel",
            "_view_count": null,
            "_view_module": "@jupyter-widgets/base",
            "_view_module_version": "1.2.0",
            "_view_name": "StyleView",
            "description_width": ""
          }
        },
        "4080772cd08d4c4b85eef08bb0c645c9": {
          "model_module": "@jupyter-widgets/base",
          "model_name": "LayoutModel",
          "model_module_version": "1.2.0",
          "state": {
            "_model_module": "@jupyter-widgets/base",
            "_model_module_version": "1.2.0",
            "_model_name": "LayoutModel",
            "_view_count": null,
            "_view_module": "@jupyter-widgets/base",
            "_view_module_version": "1.2.0",
            "_view_name": "LayoutView",
            "align_content": null,
            "align_items": null,
            "align_self": null,
            "border": null,
            "bottom": null,
            "display": null,
            "flex": null,
            "flex_flow": null,
            "grid_area": null,
            "grid_auto_columns": null,
            "grid_auto_flow": null,
            "grid_auto_rows": null,
            "grid_column": null,
            "grid_gap": null,
            "grid_row": null,
            "grid_template_areas": null,
            "grid_template_columns": null,
            "grid_template_rows": null,
            "height": null,
            "justify_content": null,
            "justify_items": null,
            "left": null,
            "margin": null,
            "max_height": null,
            "max_width": null,
            "min_height": null,
            "min_width": null,
            "object_fit": null,
            "object_position": null,
            "order": null,
            "overflow": null,
            "overflow_x": null,
            "overflow_y": null,
            "padding": null,
            "right": null,
            "top": null,
            "visibility": null,
            "width": null
          }
        },
        "2b6f5d44c5114e2c861e0e95f4be5c9b": {
          "model_module": "@jupyter-widgets/controls",
          "model_name": "ProgressStyleModel",
          "model_module_version": "1.5.0",
          "state": {
            "_model_module": "@jupyter-widgets/controls",
            "_model_module_version": "1.5.0",
            "_model_name": "ProgressStyleModel",
            "_view_count": null,
            "_view_module": "@jupyter-widgets/base",
            "_view_module_version": "1.2.0",
            "_view_name": "StyleView",
            "bar_color": null,
            "description_width": ""
          }
        },
        "821e6fdc51c24fb4a05b6d760682caee": {
          "model_module": "@jupyter-widgets/base",
          "model_name": "LayoutModel",
          "model_module_version": "1.2.0",
          "state": {
            "_model_module": "@jupyter-widgets/base",
            "_model_module_version": "1.2.0",
            "_model_name": "LayoutModel",
            "_view_count": null,
            "_view_module": "@jupyter-widgets/base",
            "_view_module_version": "1.2.0",
            "_view_name": "LayoutView",
            "align_content": null,
            "align_items": null,
            "align_self": null,
            "border": null,
            "bottom": null,
            "display": null,
            "flex": null,
            "flex_flow": null,
            "grid_area": null,
            "grid_auto_columns": null,
            "grid_auto_flow": null,
            "grid_auto_rows": null,
            "grid_column": null,
            "grid_gap": null,
            "grid_row": null,
            "grid_template_areas": null,
            "grid_template_columns": null,
            "grid_template_rows": null,
            "height": null,
            "justify_content": null,
            "justify_items": null,
            "left": null,
            "margin": null,
            "max_height": null,
            "max_width": null,
            "min_height": null,
            "min_width": null,
            "object_fit": null,
            "object_position": null,
            "order": null,
            "overflow": null,
            "overflow_x": null,
            "overflow_y": null,
            "padding": null,
            "right": null,
            "top": null,
            "visibility": null,
            "width": null
          }
        },
        "296b0e1d2aa64f6fbf245b60a66baede": {
          "model_module": "@jupyter-widgets/controls",
          "model_name": "DescriptionStyleModel",
          "model_module_version": "1.5.0",
          "state": {
            "_model_module": "@jupyter-widgets/controls",
            "_model_module_version": "1.5.0",
            "_model_name": "DescriptionStyleModel",
            "_view_count": null,
            "_view_module": "@jupyter-widgets/base",
            "_view_module_version": "1.2.0",
            "_view_name": "StyleView",
            "description_width": ""
          }
        }
      }
    }
  },
  "nbformat": 4,
  "nbformat_minor": 0
}