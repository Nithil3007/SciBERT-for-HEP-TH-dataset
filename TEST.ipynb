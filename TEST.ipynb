{
  "nbformat": 4,
  "nbformat_minor": 0,
  "metadata": {
    "colab": {
      "provenance": [],
      "gpuType": "T4"
    },
    "kernelspec": {
      "name": "python3",
      "display_name": "Python 3"
    },
    "language_info": {
      "name": "python"
    },
    "accelerator": "GPU",
    "widgets": {
      "application/vnd.jupyter.widget-state+json": {
        "89c7a611f5c6496cbcbbd54069d79dc9": {
          "model_module": "@jupyter-widgets/controls",
          "model_name": "HBoxModel",
          "model_module_version": "1.5.0",
          "state": {
            "_dom_classes": [],
            "_model_module": "@jupyter-widgets/controls",
            "_model_module_version": "1.5.0",
            "_model_name": "HBoxModel",
            "_view_count": null,
            "_view_module": "@jupyter-widgets/controls",
            "_view_module_version": "1.5.0",
            "_view_name": "HBoxView",
            "box_style": "",
            "children": [
              "IPY_MODEL_2d693e42457248b8b44820e418ae6213",
              "IPY_MODEL_abef2fc6d1d847c4b37d1ec30aa10b0e",
              "IPY_MODEL_bdb47eedca14449ea5397af86e0a49fc"
            ],
            "layout": "IPY_MODEL_06a6673bb0234c5cab77b174bc967348"
          }
        },
        "2d693e42457248b8b44820e418ae6213": {
          "model_module": "@jupyter-widgets/controls",
          "model_name": "HTMLModel",
          "model_module_version": "1.5.0",
          "state": {
            "_dom_classes": [],
            "_model_module": "@jupyter-widgets/controls",
            "_model_module_version": "1.5.0",
            "_model_name": "HTMLModel",
            "_view_count": null,
            "_view_module": "@jupyter-widgets/controls",
            "_view_module_version": "1.5.0",
            "_view_name": "HTMLView",
            "description": "",
            "description_tooltip": null,
            "layout": "IPY_MODEL_a6c0b9fba3ad41ca8637913b41e036ce",
            "placeholder": "​",
            "style": "IPY_MODEL_2310918402b3479f96f50d58fc660fd4",
            "value": "config.json: 100%"
          }
        },
        "abef2fc6d1d847c4b37d1ec30aa10b0e": {
          "model_module": "@jupyter-widgets/controls",
          "model_name": "FloatProgressModel",
          "model_module_version": "1.5.0",
          "state": {
            "_dom_classes": [],
            "_model_module": "@jupyter-widgets/controls",
            "_model_module_version": "1.5.0",
            "_model_name": "FloatProgressModel",
            "_view_count": null,
            "_view_module": "@jupyter-widgets/controls",
            "_view_module_version": "1.5.0",
            "_view_name": "ProgressView",
            "bar_style": "success",
            "description": "",
            "description_tooltip": null,
            "layout": "IPY_MODEL_ddb1115cbb254c9e93fc49fc344a4c04",
            "max": 385,
            "min": 0,
            "orientation": "horizontal",
            "style": "IPY_MODEL_83c543afe9444ea9a9d72a99af73509b",
            "value": 385
          }
        },
        "bdb47eedca14449ea5397af86e0a49fc": {
          "model_module": "@jupyter-widgets/controls",
          "model_name": "HTMLModel",
          "model_module_version": "1.5.0",
          "state": {
            "_dom_classes": [],
            "_model_module": "@jupyter-widgets/controls",
            "_model_module_version": "1.5.0",
            "_model_name": "HTMLModel",
            "_view_count": null,
            "_view_module": "@jupyter-widgets/controls",
            "_view_module_version": "1.5.0",
            "_view_name": "HTMLView",
            "description": "",
            "description_tooltip": null,
            "layout": "IPY_MODEL_6fec0966060d4761808958038407010b",
            "placeholder": "​",
            "style": "IPY_MODEL_295626a3eb774b498605684da515c10a",
            "value": " 385/385 [00:00&lt;00:00, 39.6kB/s]"
          }
        },
        "06a6673bb0234c5cab77b174bc967348": {
          "model_module": "@jupyter-widgets/base",
          "model_name": "LayoutModel",
          "model_module_version": "1.2.0",
          "state": {
            "_model_module": "@jupyter-widgets/base",
            "_model_module_version": "1.2.0",
            "_model_name": "LayoutModel",
            "_view_count": null,
            "_view_module": "@jupyter-widgets/base",
            "_view_module_version": "1.2.0",
            "_view_name": "LayoutView",
            "align_content": null,
            "align_items": null,
            "align_self": null,
            "border": null,
            "bottom": null,
            "display": null,
            "flex": null,
            "flex_flow": null,
            "grid_area": null,
            "grid_auto_columns": null,
            "grid_auto_flow": null,
            "grid_auto_rows": null,
            "grid_column": null,
            "grid_gap": null,
            "grid_row": null,
            "grid_template_areas": null,
            "grid_template_columns": null,
            "grid_template_rows": null,
            "height": null,
            "justify_content": null,
            "justify_items": null,
            "left": null,
            "margin": null,
            "max_height": null,
            "max_width": null,
            "min_height": null,
            "min_width": null,
            "object_fit": null,
            "object_position": null,
            "order": null,
            "overflow": null,
            "overflow_x": null,
            "overflow_y": null,
            "padding": null,
            "right": null,
            "top": null,
            "visibility": null,
            "width": null
          }
        },
        "a6c0b9fba3ad41ca8637913b41e036ce": {
          "model_module": "@jupyter-widgets/base",
          "model_name": "LayoutModel",
          "model_module_version": "1.2.0",
          "state": {
            "_model_module": "@jupyter-widgets/base",
            "_model_module_version": "1.2.0",
            "_model_name": "LayoutModel",
            "_view_count": null,
            "_view_module": "@jupyter-widgets/base",
            "_view_module_version": "1.2.0",
            "_view_name": "LayoutView",
            "align_content": null,
            "align_items": null,
            "align_self": null,
            "border": null,
            "bottom": null,
            "display": null,
            "flex": null,
            "flex_flow": null,
            "grid_area": null,
            "grid_auto_columns": null,
            "grid_auto_flow": null,
            "grid_auto_rows": null,
            "grid_column": null,
            "grid_gap": null,
            "grid_row": null,
            "grid_template_areas": null,
            "grid_template_columns": null,
            "grid_template_rows": null,
            "height": null,
            "justify_content": null,
            "justify_items": null,
            "left": null,
            "margin": null,
            "max_height": null,
            "max_width": null,
            "min_height": null,
            "min_width": null,
            "object_fit": null,
            "object_position": null,
            "order": null,
            "overflow": null,
            "overflow_x": null,
            "overflow_y": null,
            "padding": null,
            "right": null,
            "top": null,
            "visibility": null,
            "width": null
          }
        },
        "2310918402b3479f96f50d58fc660fd4": {
          "model_module": "@jupyter-widgets/controls",
          "model_name": "DescriptionStyleModel",
          "model_module_version": "1.5.0",
          "state": {
            "_model_module": "@jupyter-widgets/controls",
            "_model_module_version": "1.5.0",
            "_model_name": "DescriptionStyleModel",
            "_view_count": null,
            "_view_module": "@jupyter-widgets/base",
            "_view_module_version": "1.2.0",
            "_view_name": "StyleView",
            "description_width": ""
          }
        },
        "ddb1115cbb254c9e93fc49fc344a4c04": {
          "model_module": "@jupyter-widgets/base",
          "model_name": "LayoutModel",
          "model_module_version": "1.2.0",
          "state": {
            "_model_module": "@jupyter-widgets/base",
            "_model_module_version": "1.2.0",
            "_model_name": "LayoutModel",
            "_view_count": null,
            "_view_module": "@jupyter-widgets/base",
            "_view_module_version": "1.2.0",
            "_view_name": "LayoutView",
            "align_content": null,
            "align_items": null,
            "align_self": null,
            "border": null,
            "bottom": null,
            "display": null,
            "flex": null,
            "flex_flow": null,
            "grid_area": null,
            "grid_auto_columns": null,
            "grid_auto_flow": null,
            "grid_auto_rows": null,
            "grid_column": null,
            "grid_gap": null,
            "grid_row": null,
            "grid_template_areas": null,
            "grid_template_columns": null,
            "grid_template_rows": null,
            "height": null,
            "justify_content": null,
            "justify_items": null,
            "left": null,
            "margin": null,
            "max_height": null,
            "max_width": null,
            "min_height": null,
            "min_width": null,
            "object_fit": null,
            "object_position": null,
            "order": null,
            "overflow": null,
            "overflow_x": null,
            "overflow_y": null,
            "padding": null,
            "right": null,
            "top": null,
            "visibility": null,
            "width": null
          }
        },
        "83c543afe9444ea9a9d72a99af73509b": {
          "model_module": "@jupyter-widgets/controls",
          "model_name": "ProgressStyleModel",
          "model_module_version": "1.5.0",
          "state": {
            "_model_module": "@jupyter-widgets/controls",
            "_model_module_version": "1.5.0",
            "_model_name": "ProgressStyleModel",
            "_view_count": null,
            "_view_module": "@jupyter-widgets/base",
            "_view_module_version": "1.2.0",
            "_view_name": "StyleView",
            "bar_color": null,
            "description_width": ""
          }
        },
        "6fec0966060d4761808958038407010b": {
          "model_module": "@jupyter-widgets/base",
          "model_name": "LayoutModel",
          "model_module_version": "1.2.0",
          "state": {
            "_model_module": "@jupyter-widgets/base",
            "_model_module_version": "1.2.0",
            "_model_name": "LayoutModel",
            "_view_count": null,
            "_view_module": "@jupyter-widgets/base",
            "_view_module_version": "1.2.0",
            "_view_name": "LayoutView",
            "align_content": null,
            "align_items": null,
            "align_self": null,
            "border": null,
            "bottom": null,
            "display": null,
            "flex": null,
            "flex_flow": null,
            "grid_area": null,
            "grid_auto_columns": null,
            "grid_auto_flow": null,
            "grid_auto_rows": null,
            "grid_column": null,
            "grid_gap": null,
            "grid_row": null,
            "grid_template_areas": null,
            "grid_template_columns": null,
            "grid_template_rows": null,
            "height": null,
            "justify_content": null,
            "justify_items": null,
            "left": null,
            "margin": null,
            "max_height": null,
            "max_width": null,
            "min_height": null,
            "min_width": null,
            "object_fit": null,
            "object_position": null,
            "order": null,
            "overflow": null,
            "overflow_x": null,
            "overflow_y": null,
            "padding": null,
            "right": null,
            "top": null,
            "visibility": null,
            "width": null
          }
        },
        "295626a3eb774b498605684da515c10a": {
          "model_module": "@jupyter-widgets/controls",
          "model_name": "DescriptionStyleModel",
          "model_module_version": "1.5.0",
          "state": {
            "_model_module": "@jupyter-widgets/controls",
            "_model_module_version": "1.5.0",
            "_model_name": "DescriptionStyleModel",
            "_view_count": null,
            "_view_module": "@jupyter-widgets/base",
            "_view_module_version": "1.2.0",
            "_view_name": "StyleView",
            "description_width": ""
          }
        },
        "170f47f1cee1422b99f29c106246d4a9": {
          "model_module": "@jupyter-widgets/controls",
          "model_name": "HBoxModel",
          "model_module_version": "1.5.0",
          "state": {
            "_dom_classes": [],
            "_model_module": "@jupyter-widgets/controls",
            "_model_module_version": "1.5.0",
            "_model_name": "HBoxModel",
            "_view_count": null,
            "_view_module": "@jupyter-widgets/controls",
            "_view_module_version": "1.5.0",
            "_view_name": "HBoxView",
            "box_style": "",
            "children": [
              "IPY_MODEL_dcaf8a7061694cc590671705fc402d43",
              "IPY_MODEL_875e93ff57d04bbfbe33b90fad173c99",
              "IPY_MODEL_1c273305d849412da1d1745859cd8c10"
            ],
            "layout": "IPY_MODEL_7cd511910b6e468594419fbbd5b80990"
          }
        },
        "dcaf8a7061694cc590671705fc402d43": {
          "model_module": "@jupyter-widgets/controls",
          "model_name": "HTMLModel",
          "model_module_version": "1.5.0",
          "state": {
            "_dom_classes": [],
            "_model_module": "@jupyter-widgets/controls",
            "_model_module_version": "1.5.0",
            "_model_name": "HTMLModel",
            "_view_count": null,
            "_view_module": "@jupyter-widgets/controls",
            "_view_module_version": "1.5.0",
            "_view_name": "HTMLView",
            "description": "",
            "description_tooltip": null,
            "layout": "IPY_MODEL_5e392342673645cb8b009771219e885d",
            "placeholder": "​",
            "style": "IPY_MODEL_18fcd78bddb346d8bcfb97e9476a2ecd",
            "value": "vocab.txt: 100%"
          }
        },
        "875e93ff57d04bbfbe33b90fad173c99": {
          "model_module": "@jupyter-widgets/controls",
          "model_name": "FloatProgressModel",
          "model_module_version": "1.5.0",
          "state": {
            "_dom_classes": [],
            "_model_module": "@jupyter-widgets/controls",
            "_model_module_version": "1.5.0",
            "_model_name": "FloatProgressModel",
            "_view_count": null,
            "_view_module": "@jupyter-widgets/controls",
            "_view_module_version": "1.5.0",
            "_view_name": "ProgressView",
            "bar_style": "success",
            "description": "",
            "description_tooltip": null,
            "layout": "IPY_MODEL_360987d071414bbf9aa42bfff5b33e94",
            "max": 227845,
            "min": 0,
            "orientation": "horizontal",
            "style": "IPY_MODEL_8c71a7be318f481d9660d7981a0e34fd",
            "value": 227845
          }
        },
        "1c273305d849412da1d1745859cd8c10": {
          "model_module": "@jupyter-widgets/controls",
          "model_name": "HTMLModel",
          "model_module_version": "1.5.0",
          "state": {
            "_dom_classes": [],
            "_model_module": "@jupyter-widgets/controls",
            "_model_module_version": "1.5.0",
            "_model_name": "HTMLModel",
            "_view_count": null,
            "_view_module": "@jupyter-widgets/controls",
            "_view_module_version": "1.5.0",
            "_view_name": "HTMLView",
            "description": "",
            "description_tooltip": null,
            "layout": "IPY_MODEL_5ae2b067235a4d03aaa60dfe0eefee62",
            "placeholder": "​",
            "style": "IPY_MODEL_e5084289f87d484c850ab974192a6b49",
            "value": " 228k/228k [00:00&lt;00:00, 3.63MB/s]"
          }
        },
        "7cd511910b6e468594419fbbd5b80990": {
          "model_module": "@jupyter-widgets/base",
          "model_name": "LayoutModel",
          "model_module_version": "1.2.0",
          "state": {
            "_model_module": "@jupyter-widgets/base",
            "_model_module_version": "1.2.0",
            "_model_name": "LayoutModel",
            "_view_count": null,
            "_view_module": "@jupyter-widgets/base",
            "_view_module_version": "1.2.0",
            "_view_name": "LayoutView",
            "align_content": null,
            "align_items": null,
            "align_self": null,
            "border": null,
            "bottom": null,
            "display": null,
            "flex": null,
            "flex_flow": null,
            "grid_area": null,
            "grid_auto_columns": null,
            "grid_auto_flow": null,
            "grid_auto_rows": null,
            "grid_column": null,
            "grid_gap": null,
            "grid_row": null,
            "grid_template_areas": null,
            "grid_template_columns": null,
            "grid_template_rows": null,
            "height": null,
            "justify_content": null,
            "justify_items": null,
            "left": null,
            "margin": null,
            "max_height": null,
            "max_width": null,
            "min_height": null,
            "min_width": null,
            "object_fit": null,
            "object_position": null,
            "order": null,
            "overflow": null,
            "overflow_x": null,
            "overflow_y": null,
            "padding": null,
            "right": null,
            "top": null,
            "visibility": null,
            "width": null
          }
        },
        "5e392342673645cb8b009771219e885d": {
          "model_module": "@jupyter-widgets/base",
          "model_name": "LayoutModel",
          "model_module_version": "1.2.0",
          "state": {
            "_model_module": "@jupyter-widgets/base",
            "_model_module_version": "1.2.0",
            "_model_name": "LayoutModel",
            "_view_count": null,
            "_view_module": "@jupyter-widgets/base",
            "_view_module_version": "1.2.0",
            "_view_name": "LayoutView",
            "align_content": null,
            "align_items": null,
            "align_self": null,
            "border": null,
            "bottom": null,
            "display": null,
            "flex": null,
            "flex_flow": null,
            "grid_area": null,
            "grid_auto_columns": null,
            "grid_auto_flow": null,
            "grid_auto_rows": null,
            "grid_column": null,
            "grid_gap": null,
            "grid_row": null,
            "grid_template_areas": null,
            "grid_template_columns": null,
            "grid_template_rows": null,
            "height": null,
            "justify_content": null,
            "justify_items": null,
            "left": null,
            "margin": null,
            "max_height": null,
            "max_width": null,
            "min_height": null,
            "min_width": null,
            "object_fit": null,
            "object_position": null,
            "order": null,
            "overflow": null,
            "overflow_x": null,
            "overflow_y": null,
            "padding": null,
            "right": null,
            "top": null,
            "visibility": null,
            "width": null
          }
        },
        "18fcd78bddb346d8bcfb97e9476a2ecd": {
          "model_module": "@jupyter-widgets/controls",
          "model_name": "DescriptionStyleModel",
          "model_module_version": "1.5.0",
          "state": {
            "_model_module": "@jupyter-widgets/controls",
            "_model_module_version": "1.5.0",
            "_model_name": "DescriptionStyleModel",
            "_view_count": null,
            "_view_module": "@jupyter-widgets/base",
            "_view_module_version": "1.2.0",
            "_view_name": "StyleView",
            "description_width": ""
          }
        },
        "360987d071414bbf9aa42bfff5b33e94": {
          "model_module": "@jupyter-widgets/base",
          "model_name": "LayoutModel",
          "model_module_version": "1.2.0",
          "state": {
            "_model_module": "@jupyter-widgets/base",
            "_model_module_version": "1.2.0",
            "_model_name": "LayoutModel",
            "_view_count": null,
            "_view_module": "@jupyter-widgets/base",
            "_view_module_version": "1.2.0",
            "_view_name": "LayoutView",
            "align_content": null,
            "align_items": null,
            "align_self": null,
            "border": null,
            "bottom": null,
            "display": null,
            "flex": null,
            "flex_flow": null,
            "grid_area": null,
            "grid_auto_columns": null,
            "grid_auto_flow": null,
            "grid_auto_rows": null,
            "grid_column": null,
            "grid_gap": null,
            "grid_row": null,
            "grid_template_areas": null,
            "grid_template_columns": null,
            "grid_template_rows": null,
            "height": null,
            "justify_content": null,
            "justify_items": null,
            "left": null,
            "margin": null,
            "max_height": null,
            "max_width": null,
            "min_height": null,
            "min_width": null,
            "object_fit": null,
            "object_position": null,
            "order": null,
            "overflow": null,
            "overflow_x": null,
            "overflow_y": null,
            "padding": null,
            "right": null,
            "top": null,
            "visibility": null,
            "width": null
          }
        },
        "8c71a7be318f481d9660d7981a0e34fd": {
          "model_module": "@jupyter-widgets/controls",
          "model_name": "ProgressStyleModel",
          "model_module_version": "1.5.0",
          "state": {
            "_model_module": "@jupyter-widgets/controls",
            "_model_module_version": "1.5.0",
            "_model_name": "ProgressStyleModel",
            "_view_count": null,
            "_view_module": "@jupyter-widgets/base",
            "_view_module_version": "1.2.0",
            "_view_name": "StyleView",
            "bar_color": null,
            "description_width": ""
          }
        },
        "5ae2b067235a4d03aaa60dfe0eefee62": {
          "model_module": "@jupyter-widgets/base",
          "model_name": "LayoutModel",
          "model_module_version": "1.2.0",
          "state": {
            "_model_module": "@jupyter-widgets/base",
            "_model_module_version": "1.2.0",
            "_model_name": "LayoutModel",
            "_view_count": null,
            "_view_module": "@jupyter-widgets/base",
            "_view_module_version": "1.2.0",
            "_view_name": "LayoutView",
            "align_content": null,
            "align_items": null,
            "align_self": null,
            "border": null,
            "bottom": null,
            "display": null,
            "flex": null,
            "flex_flow": null,
            "grid_area": null,
            "grid_auto_columns": null,
            "grid_auto_flow": null,
            "grid_auto_rows": null,
            "grid_column": null,
            "grid_gap": null,
            "grid_row": null,
            "grid_template_areas": null,
            "grid_template_columns": null,
            "grid_template_rows": null,
            "height": null,
            "justify_content": null,
            "justify_items": null,
            "left": null,
            "margin": null,
            "max_height": null,
            "max_width": null,
            "min_height": null,
            "min_width": null,
            "object_fit": null,
            "object_position": null,
            "order": null,
            "overflow": null,
            "overflow_x": null,
            "overflow_y": null,
            "padding": null,
            "right": null,
            "top": null,
            "visibility": null,
            "width": null
          }
        },
        "e5084289f87d484c850ab974192a6b49": {
          "model_module": "@jupyter-widgets/controls",
          "model_name": "DescriptionStyleModel",
          "model_module_version": "1.5.0",
          "state": {
            "_model_module": "@jupyter-widgets/controls",
            "_model_module_version": "1.5.0",
            "_model_name": "DescriptionStyleModel",
            "_view_count": null,
            "_view_module": "@jupyter-widgets/base",
            "_view_module_version": "1.2.0",
            "_view_name": "StyleView",
            "description_width": ""
          }
        }
      }
    }
  },
  "cells": [
    {
      "cell_type": "code",
      "execution_count": 1,
      "metadata": {
        "id": "YumtBW4IQnOK"
      },
      "outputs": [],
      "source": [
        "import os\n",
        "import pandas as pd\n",
        "import re\n",
        "from pandas import *\n",
        "from sklearn.model_selection import train_test_split\n",
        "\n",
        "path = '/content/drive/MyDrive/Hepth Deep Text/'\n",
        "paths = []\n",
        "# Testing the model on papers from 2000-2004\n",
        "for i in range(2000, 2004):\n",
        "    paths.append(path + str(i) + ' hepth deep texts')"
      ]
    },
    {
      "cell_type": "code",
      "source": [
        "from google.colab import drive\n",
        "drive.mount('/content/drive')\n",
        "\n",
        "file = pd.read_csv('/content/drive/MyDrive/infPaperTag.csv')\n",
        "terms = file['0'].values.tolist()\n",
        "actual = file['2'].values.tolist()\n",
        "print(paths)"
      ],
      "metadata": {
        "colab": {
          "base_uri": "https://localhost:8080/"
        },
        "id": "T_AHZkrHSfau",
        "outputId": "f2562fa1-3383-4f9e-c508-0da54e62387c"
      },
      "execution_count": 2,
      "outputs": [
        {
          "output_type": "stream",
          "name": "stdout",
          "text": [
            "Mounted at /content/drive\n",
            "['/content/drive/MyDrive/Hepth Deep Text/2000 hepth deep texts', '/content/drive/MyDrive/Hepth Deep Text/2001 hepth deep texts', '/content/drive/MyDrive/Hepth Deep Text/2002 hepth deep texts', '/content/drive/MyDrive/Hepth Deep Text/2003 hepth deep texts']\n"
          ]
        }
      ]
    },
    {
      "cell_type": "code",
      "source": [
        "texts = []\n",
        "labels_to_category = []\n",
        "for i in range(len(paths)):\n",
        "    print(i)\n",
        "    for j in os.listdir(paths[i]):\n",
        "        if int(re.findall(r'\\d+', j)[0]) in terms:\n",
        "            with open(paths[i] + \"/\" + j, encoding=\"utf8\", errors='ignore') as f:\n",
        "                temp = f.read()\n",
        "                temp = temp.replace(\"\\n\", \" \").replace('\\r', '')\n",
        "                texts.append(temp)\n",
        "                f.close()\n",
        "\n",
        "# Test set\n",
        "data_frame = pd.DataFrame({'texts': texts})\n",
        "len(texts)"
      ],
      "metadata": {
        "colab": {
          "base_uri": "https://localhost:8080/"
        },
        "id": "RCeyiowASj8c",
        "outputId": "686b5e31-e634-491c-fb07-ad97983212da"
      },
      "execution_count": 3,
      "outputs": [
        {
          "output_type": "stream",
          "name": "stdout",
          "text": [
            "0\n",
            "1\n",
            "2\n",
            "3\n"
          ]
        },
        {
          "output_type": "execute_result",
          "data": {
            "text/plain": [
              "8835"
            ]
          },
          "metadata": {},
          "execution_count": 3
        }
      ]
    },
    {
      "cell_type": "code",
      "source": [
        "from string import punctuation\n",
        "from os import listdir\n",
        "from collections import Counter\n",
        "from nltk.corpus import stopwords\n",
        "import pandas as pd\n",
        "import numpy as np\n",
        "from numpy import array\n",
        "import keras\n",
        "from tensorflow.keras.preprocessing.text import Tokenizer\n",
        "from tensorflow.keras.preprocessing.sequence import pad_sequences\n",
        "from keras.models import Sequential\n",
        "from keras.layers import Dense, Dropout\n",
        "from keras.layers import Flatten\n",
        "from keras.layers import Embedding\n",
        "from tensorflow.keras.layers import Conv1D\n",
        "from tensorflow.keras.layers import MaxPooling1D\n",
        "from sklearn.preprocessing import LabelBinarizer\n",
        "from tensorflow.keras.utils import to_categorical\n",
        "\n",
        "!pip install transformers\n",
        "\n",
        "def clean_and_get_tokens(doc):\n",
        "    tokens = doc.split()\n",
        "    table = str.maketrans('', '', punctuation)  # removes punctuations using\n",
        "    tokens = [w.translate(table) for w in tokens]  # dictionary of punctuations\n",
        "    tokens = [word for word in tokens if word.isalpha()]\n",
        "    stop_words = set(stopwords.words('english'))\n",
        "    tokens = [w for w in tokens if not w in stop_words]\n",
        "    tokens = [word for word in tokens if len(word) > 2]\n",
        "    return tokens"
      ],
      "metadata": {
        "colab": {
          "base_uri": "https://localhost:8080/"
        },
        "id": "kQimxzLASpF1",
        "outputId": "c7c7cd76-ba4c-45ce-eb98-c99024c5f351"
      },
      "execution_count": 7,
      "outputs": [
        {
          "output_type": "stream",
          "name": "stdout",
          "text": [
            "Requirement already satisfied: transformers in /usr/local/lib/python3.11/dist-packages (4.51.1)\n",
            "Requirement already satisfied: filelock in /usr/local/lib/python3.11/dist-packages (from transformers) (3.18.0)\n",
            "Requirement already satisfied: huggingface-hub<1.0,>=0.30.0 in /usr/local/lib/python3.11/dist-packages (from transformers) (0.30.2)\n",
            "Requirement already satisfied: numpy>=1.17 in /usr/local/lib/python3.11/dist-packages (from transformers) (2.0.2)\n",
            "Requirement already satisfied: packaging>=20.0 in /usr/local/lib/python3.11/dist-packages (from transformers) (24.2)\n",
            "Requirement already satisfied: pyyaml>=5.1 in /usr/local/lib/python3.11/dist-packages (from transformers) (6.0.2)\n",
            "Requirement already satisfied: regex!=2019.12.17 in /usr/local/lib/python3.11/dist-packages (from transformers) (2024.11.6)\n",
            "Requirement already satisfied: requests in /usr/local/lib/python3.11/dist-packages (from transformers) (2.32.3)\n",
            "Requirement already satisfied: tokenizers<0.22,>=0.21 in /usr/local/lib/python3.11/dist-packages (from transformers) (0.21.1)\n",
            "Requirement already satisfied: safetensors>=0.4.3 in /usr/local/lib/python3.11/dist-packages (from transformers) (0.5.3)\n",
            "Requirement already satisfied: tqdm>=4.27 in /usr/local/lib/python3.11/dist-packages (from transformers) (4.67.1)\n",
            "Requirement already satisfied: fsspec>=2023.5.0 in /usr/local/lib/python3.11/dist-packages (from huggingface-hub<1.0,>=0.30.0->transformers) (2025.3.2)\n",
            "Requirement already satisfied: typing-extensions>=3.7.4.3 in /usr/local/lib/python3.11/dist-packages (from huggingface-hub<1.0,>=0.30.0->transformers) (4.13.1)\n",
            "Requirement already satisfied: charset-normalizer<4,>=2 in /usr/local/lib/python3.11/dist-packages (from requests->transformers) (3.4.1)\n",
            "Requirement already satisfied: idna<4,>=2.5 in /usr/local/lib/python3.11/dist-packages (from requests->transformers) (3.10)\n",
            "Requirement already satisfied: urllib3<3,>=1.21.1 in /usr/local/lib/python3.11/dist-packages (from requests->transformers) (2.3.0)\n",
            "Requirement already satisfied: certifi>=2017.4.17 in /usr/local/lib/python3.11/dist-packages (from requests->transformers) (2025.1.31)\n"
          ]
        }
      ]
    },
    {
      "cell_type": "code",
      "source": [
        "words = set()\n",
        "vocab = {}\n",
        "import nltk\n",
        "nltk.download('stopwords')\n",
        "from nltk.corpus import stopwords\n",
        "\n",
        "token = data_frame['texts'][0].split()\n",
        "print(data_frame['texts'][0])\n",
        "table = str.maketrans('', '', punctuation)\n",
        "tokens = [w.translate(table) for w in token]\n",
        "print(tokens)\n",
        "tokens = [word for word in tokens if word.isalpha()]\n",
        "stop_words = set(stopwords.words('english'))\n",
        "tokens = [w for w in tokens if not w in stop_words]\n",
        "tokens = [word for word in tokens if len(word) > 2]\n",
        "print(tokens)"
      ],
      "metadata": {
        "colab": {
          "base_uri": "https://localhost:8080/"
        },
        "id": "yy4ubq8XS5Ls",
        "outputId": "9d098381-9fba-44fa-d0b0-9ae7d2460f14"
      },
      "execution_count": 8,
      "outputs": [
        {
          "output_type": "stream",
          "name": "stdout",
          "text": [
            "-------------------------------- E:/BigData/Project/Run/Files_Keywords/TextFiles\\0006174v1.txt -------------------------------- (6), and the dynamical equation for , the complete behaviour of our model is similar  to the friedmann cosmology.in  the original einsteins proposal the cosmological term was exactly a constant introduced  by hand in einstein hilbert lagrangean as a kind of force opposite to that of gravitation.in accordance with [2] we choose  = (a), where a means the scale factor for  friedmann-robertson-walker universe.on taking  = 1 the following solutions is found.fcpnunes@cce.ufes.br/maria@gbl.com.br  khanna@phys.ualberta.ca  \f2  introduction  in the last few years several paper [1, 5] have appeared discussing the cosmological  constant problem when that term is considered as part of the content of the universe.the analyse of this problem with  = bam for m 6= 2 is presently being considered for the same initial hypothesis and the equation of state will be obtained.in the einsteins equation the cosmological term appears on the left side and its meaning is  only geometrical, as must be in the general relativity.some solutions for equation (9)  the dynamic equation for the scale factor a(t) have solutions for particular values of  .it is clear that all possibilities have an origin in time exactly the  same way as the standard cosmology where the cosmological term is a constant.however the solutions that are found for almost at space time, k = 0 [1] or  under particular hypothesis and numerically are approximate solutions.(1) and (2), the robertson-walker line  element and the fact that the cosmological term here is not a constant but a function of  time, one can show [1] that the equation which governs the behavior of the scale factor  in the presence of a cosmological term, , a constant like in the original einstein model  is given by.see the plot for  = 1/2 and k = 0, +1 at the end of the paper  \f7  conclusions and comments  we have found direct solutions of a non linear dierential equation which describes the  dynamics for scale factor when the cosmological term is a function of time.the dot means time derivative.now there is a possibility that the cosmological term may be time dependent.the possibility that cosmological term is a time varying function does not change the  usual picture of the friedmann cosmology when we choose the evolution law eq.thus the cosmological term is written as  (a) = ba2  (8)  where b is a pure number of the order 1 and a is a function of time.the central equation which describes that evolution for scale factor with cosmological  term whether or not it is a function of time is shown here (7) and elsewhere [1, 2].in the new context the cosmological term could be a function of time with large  possibilities for evolution in time to cosmological term [1].abstract  0 0 0 2     n u j    2 2       1 v 4 7 1 6 0 0 0 / h t - p e h : v i x r a  the cosmological term is assumed to be a function of time such as  = ba2 where  a(t) means the scale factor of standard cosmology. -------------------------------- \n",
            "['', 'EBigDataProjectRunFilesKeywordsTextFiles0006174v1txt', '', '6', 'and', 'the', 'dynamical', 'equation', 'for', '', 'the', 'complete', 'behaviour', 'of', 'our', 'model', 'is', 'similar', 'to', 'the', 'friedmann', 'cosmologyin', 'the', 'original', 'einsteins', 'proposal', 'the', 'cosmological', 'term', 'was', 'exactly', 'a', 'constant', 'introduced', 'by', 'hand', 'in', 'einstein', 'hilbert', 'lagrangean', 'as', 'a', 'kind', 'of', 'force', 'opposite', 'to', 'that', 'of', 'gravitationin', 'accordance', 'with', '2', 'we', 'choose', '', 'a', 'where', 'a', 'means', 'the', 'scale', 'factor', 'for', 'friedmannrobertsonwalker', 'universeon', 'taking', '', '1', 'the', 'following', 'solutions', 'is', 'foundfcpnunescceufesbrmariagblcombr', 'khannaphysualbertaca', '2', 'introduction', 'in', 'the', 'last', 'few', 'years', 'several', 'paper', '1', '5', 'have', 'appeared', 'discussing', 'the', 'cosmological', 'constant', 'problem', 'when', 'that', 'term', 'is', 'considered', 'as', 'part', 'of', 'the', 'content', 'of', 'the', 'universethe', 'analyse', 'of', 'this', 'problem', 'with', '', 'bam', 'for', 'm', '6', '2', 'is', 'presently', 'being', 'considered', 'for', 'the', 'same', 'initial', 'hypothesis', 'and', 'the', 'equation', 'of', 'state', 'will', 'be', 'obtainedin', 'the', 'einsteins', 'equation', 'the', 'cosmological', 'term', 'appears', 'on', 'the', 'left', 'side', 'and', 'its', 'meaning', 'is', 'only', 'geometrical', 'as', 'must', 'be', 'in', 'the', 'general', 'relativitysome', 'solutions', 'for', 'equation', '9', 'the', 'dynamic', 'equation', 'for', 'the', 'scale', 'factor', 'at', 'have', 'solutions', 'for', 'particular', 'values', 'of', 'it', 'is', 'clear', 'that', 'all', 'possibilities', 'have', 'an', 'origin', 'in', 'time', 'exactly', 'the', 'same', 'way', 'as', 'the', 'standard', 'cosmology', 'where', 'the', 'cosmological', 'term', 'is', 'a', 'constanthowever', 'the', 'solutions', 'that', 'are', 'found', 'for', 'almost', 'at', 'space', 'time', 'k', '', '0', '1', 'or', 'under', 'particular', 'hypothesis', 'and', 'numerically', 'are', 'approximate', 'solutions1', 'and', '2', 'the', 'robertsonwalker', 'line', 'element', 'and', 'the', 'fact', 'that', 'the', 'cosmological', 'term', 'here', 'is', 'not', 'a', 'constant', 'but', 'a', 'function', 'of', 'time', 'one', 'can', 'show', '1', 'that', 'the', 'equation', 'which', 'governs', 'the', 'behavior', 'of', 'the', 'scale', 'factor', 'in', 'the', 'presence', 'of', 'a', 'cosmological', 'term', '', 'a', 'constant', 'like', 'in', 'the', 'original', 'einstein', 'model', 'is', 'given', 'bysee', 'the', 'plot', 'for', '', '12', 'and', 'k', '', '0', '1', 'at', 'the', 'end', 'of', 'the', 'paper', '7', 'conclusions', 'and', 'comments', 'we', 'have', 'found', 'direct', 'solutions', 'of', 'a', 'non', 'linear', 'dierential', 'equation', 'which', 'describes', 'the', 'dynamics', 'for', 'scale', 'factor', 'when', 'the', 'cosmological', 'term', 'is', 'a', 'function', 'of', 'timethe', 'dot', 'means', 'time', 'derivativenow', 'there', 'is', 'a', 'possibility', 'that', 'the', 'cosmological', 'term', 'may', 'be', 'time', 'dependentthe', 'possibility', 'that', 'cosmological', 'term', 'is', 'a', 'time', 'varying', 'function', 'does', 'not', 'change', 'the', 'usual', 'picture', 'of', 'the', 'friedmann', 'cosmology', 'when', 'we', 'choose', 'the', 'evolution', 'law', 'eqthus', 'the', 'cosmological', 'term', 'is', 'written', 'as', 'a', '', 'ba2', '8', 'where', 'b', 'is', 'a', 'pure', 'number', 'of', 'the', 'order', '1', 'and', 'a', 'is', 'a', 'function', 'of', 'timethe', 'central', 'equation', 'which', 'describes', 'that', 'evolution', 'for', 'scale', 'factor', 'with', 'cosmological', 'term', 'whether', 'or', 'not', 'it', 'is', 'a', 'function', 'of', 'time', 'is', 'shown', 'here', '7', 'and', 'elsewhere', '1', '2in', 'the', 'new', 'context', 'the', 'cosmological', 'term', 'could', 'be', 'a', 'function', 'of', 'time', 'with', 'large', 'possibilities', 'for', 'evolution', 'in', 'time', 'to', 'cosmological', 'term', '1abstract', '0', '0', '0', '2', 'n', 'u', 'j', '2', '2', '1', 'v', '4', '7', '1', '6', '0', '0', '0', '', 'h', 't', '', 'p', 'e', 'h', '', 'v', 'i', 'x', 'r', 'a', 'the', 'cosmological', 'term', 'is', 'assumed', 'to', 'be', 'a', 'function', 'of', 'time', 'such', 'as', '', 'ba2', 'where', 'at', 'means', 'the', 'scale', 'factor', 'of', 'standard', 'cosmology', '']\n",
            "['dynamical', 'equation', 'complete', 'behaviour', 'model', 'similar', 'friedmann', 'cosmologyin', 'original', 'einsteins', 'proposal', 'cosmological', 'term', 'exactly', 'constant', 'introduced', 'hand', 'einstein', 'hilbert', 'lagrangean', 'kind', 'force', 'opposite', 'gravitationin', 'accordance', 'choose', 'means', 'scale', 'factor', 'friedmannrobertsonwalker', 'universeon', 'taking', 'following', 'solutions', 'foundfcpnunescceufesbrmariagblcombr', 'khannaphysualbertaca', 'introduction', 'last', 'years', 'several', 'paper', 'appeared', 'discussing', 'cosmological', 'constant', 'problem', 'term', 'considered', 'part', 'content', 'universethe', 'analyse', 'problem', 'bam', 'presently', 'considered', 'initial', 'hypothesis', 'equation', 'state', 'obtainedin', 'einsteins', 'equation', 'cosmological', 'term', 'appears', 'left', 'side', 'meaning', 'geometrical', 'must', 'general', 'relativitysome', 'solutions', 'equation', 'dynamic', 'equation', 'scale', 'factor', 'solutions', 'particular', 'values', 'clear', 'possibilities', 'origin', 'time', 'exactly', 'way', 'standard', 'cosmology', 'cosmological', 'term', 'constanthowever', 'solutions', 'found', 'almost', 'space', 'time', 'particular', 'hypothesis', 'numerically', 'approximate', 'robertsonwalker', 'line', 'element', 'fact', 'cosmological', 'term', 'constant', 'function', 'time', 'one', 'show', 'equation', 'governs', 'behavior', 'scale', 'factor', 'presence', 'cosmological', 'term', 'constant', 'like', 'original', 'einstein', 'model', 'given', 'bysee', 'plot', 'end', 'paper', 'conclusions', 'comments', 'found', 'direct', 'solutions', 'non', 'linear', 'dierential', 'equation', 'describes', 'dynamics', 'scale', 'factor', 'cosmological', 'term', 'function', 'timethe', 'dot', 'means', 'time', 'derivativenow', 'possibility', 'cosmological', 'term', 'may', 'time', 'dependentthe', 'possibility', 'cosmological', 'term', 'time', 'varying', 'function', 'change', 'usual', 'picture', 'friedmann', 'cosmology', 'choose', 'evolution', 'law', 'eqthus', 'cosmological', 'term', 'written', 'pure', 'number', 'order', 'function', 'timethe', 'central', 'equation', 'describes', 'evolution', 'scale', 'factor', 'cosmological', 'term', 'whether', 'function', 'time', 'shown', 'elsewhere', 'new', 'context', 'cosmological', 'term', 'could', 'function', 'time', 'large', 'possibilities', 'evolution', 'time', 'cosmological', 'term', 'cosmological', 'term', 'assumed', 'function', 'time', 'means', 'scale', 'factor', 'standard', 'cosmology']\n"
          ]
        },
        {
          "output_type": "stream",
          "name": "stderr",
          "text": [
            "[nltk_data] Downloading package stopwords to /root/nltk_data...\n",
            "[nltk_data]   Unzipping corpora/stopwords.zip.\n"
          ]
        }
      ]
    },
    {
      "cell_type": "code",
      "source": [
        "documents = data_frame['texts']\n",
        "for doc in documents:\n",
        "    tokens = clean_and_get_tokens(doc)\n",
        "    for token in tokens:\n",
        "        if token in vocab:\n",
        "            vocab[token] += 1\n",
        "        else:\n",
        "            vocab[token] = 1\n",
        "\n",
        "for word in vocab:\n",
        "    if vocab[word] > 5:\n",
        "        words.add(word)\n",
        "\n",
        "train_documents = []\n",
        "train_data = data_frame\n",
        "for doc in train_data['texts']:\n",
        "    tokens = doc.split()\n",
        "    final_tokens = []\n",
        "    for token in tokens:\n",
        "        if token in words:\n",
        "            final_tokens.append(token)\n",
        "    final_string = ' '.join(final_tokens)\n",
        "    train_documents.append(final_string)\n",
        "print(train_documents[0])"
      ],
      "metadata": {
        "colab": {
          "base_uri": "https://localhost:8080/"
        },
        "id": "98I_4X5zTINL",
        "outputId": "bc70e455-fd4a-41b4-b554-5d713136efa9"
      },
      "execution_count": 9,
      "outputs": [
        {
          "output_type": "stream",
          "name": "stdout",
          "text": [
            "dynamical equation complete behaviour model similar friedmann original einsteins proposal cosmological term exactly constant introduced hand einstein hilbert lagrangean kind force opposite accordance choose means scale factor taking following solutions introduction last years several paper appeared discussing cosmological constant problem term considered part content analyse problem presently considered initial hypothesis equation state einsteins equation cosmological term appears left side meaning must general solutions equation dynamic equation scale factor solutions particular values clear possibilities origin time exactly way standard cosmology cosmological term solutions found almost space particular hypothesis numerically approximate line element fact cosmological term constant function one show equation governs behavior scale factor presence cosmological constant like original einstein model given plot end paper conclusions comments found direct solutions non linear dierential equation describes dynamics scale factor cosmological term function dot means time possibility cosmological term may time possibility cosmological term time varying function change usual picture friedmann cosmology choose evolution law cosmological term written pure number order function central equation describes evolution scale factor cosmological term whether function time shown elsewhere new context cosmological term could function time large possibilities evolution time cosmological term cosmological term assumed function time means scale factor standard\n"
          ]
        }
      ]
    },
    {
      "cell_type": "code",
      "source": [
        "from transformers import AutoTokenizer\n",
        "\n",
        "tz = AutoTokenizer.from_pretrained('allenai/scibert_scivocab_uncased')\n",
        "for i in range(0, len(train_documents)):\n",
        "    tz.tokenize(train_documents[i])\n",
        "encoded_docs = []\n",
        "for i in range(0, len(train_documents)):\n",
        "    encoded_docs.append(tz.convert_tokens_to_ids(tz.tokenize(train_documents[i])))\n",
        "\n",
        "max_length = max(([len(s.split()) for s in train_documents]))\n",
        "Xtrain = pad_sequences(encoded_docs, maxlen=745, padding='post')\n",
        "print(Xtrain)"
      ],
      "metadata": {
        "colab": {
          "base_uri": "https://localhost:8080/",
          "height": 327,
          "referenced_widgets": [
            "89c7a611f5c6496cbcbbd54069d79dc9",
            "2d693e42457248b8b44820e418ae6213",
            "abef2fc6d1d847c4b37d1ec30aa10b0e",
            "bdb47eedca14449ea5397af86e0a49fc",
            "06a6673bb0234c5cab77b174bc967348",
            "a6c0b9fba3ad41ca8637913b41e036ce",
            "2310918402b3479f96f50d58fc660fd4",
            "ddb1115cbb254c9e93fc49fc344a4c04",
            "83c543afe9444ea9a9d72a99af73509b",
            "6fec0966060d4761808958038407010b",
            "295626a3eb774b498605684da515c10a",
            "170f47f1cee1422b99f29c106246d4a9",
            "dcaf8a7061694cc590671705fc402d43",
            "875e93ff57d04bbfbe33b90fad173c99",
            "1c273305d849412da1d1745859cd8c10",
            "7cd511910b6e468594419fbbd5b80990",
            "5e392342673645cb8b009771219e885d",
            "18fcd78bddb346d8bcfb97e9476a2ecd",
            "360987d071414bbf9aa42bfff5b33e94",
            "8c71a7be318f481d9660d7981a0e34fd",
            "5ae2b067235a4d03aaa60dfe0eefee62",
            "e5084289f87d484c850ab974192a6b49"
          ]
        },
        "id": "YeHKv0X8Sw2X",
        "outputId": "be83cf0a-e4c5-41d0-ef3d-fcc482d2cc56"
      },
      "execution_count": 10,
      "outputs": [
        {
          "output_type": "stream",
          "name": "stderr",
          "text": [
            "/usr/local/lib/python3.11/dist-packages/huggingface_hub/utils/_auth.py:94: UserWarning: \n",
            "The secret `HF_TOKEN` does not exist in your Colab secrets.\n",
            "To authenticate with the Hugging Face Hub, create a token in your settings tab (https://huggingface.co/settings/tokens), set it as secret in your Google Colab and restart your session.\n",
            "You will be able to reuse this secret in all of your notebooks.\n",
            "Please note that authentication is recommended but still optional to access public models or datasets.\n",
            "  warnings.warn(\n"
          ]
        },
        {
          "output_type": "display_data",
          "data": {
            "text/plain": [
              "config.json:   0%|          | 0.00/385 [00:00<?, ?B/s]"
            ],
            "application/vnd.jupyter.widget-view+json": {
              "version_major": 2,
              "version_minor": 0,
              "model_id": "89c7a611f5c6496cbcbbd54069d79dc9"
            }
          },
          "metadata": {}
        },
        {
          "output_type": "display_data",
          "data": {
            "text/plain": [
              "vocab.txt:   0%|          | 0.00/228k [00:00<?, ?B/s]"
            ],
            "application/vnd.jupyter.widget-view+json": {
              "version_major": 2,
              "version_minor": 0,
              "model_id": "170f47f1cee1422b99f29c106246d4a9"
            }
          },
          "metadata": {}
        },
        {
          "output_type": "stream",
          "name": "stdout",
          "text": [
            "[[10245  2037  2467 ...     0     0     0]\n",
            " [  993 12829  1532 ...     0     0     0]\n",
            " [ 3790  3676 18916 ...     0     0     0]\n",
            " ...\n",
            " [ 1196  4001 15811 ...     0     0     0]\n",
            " [  959  7176  1245 ...     0     0     0]\n",
            " [ 1532  1157   585 ...     0     0     0]]\n"
          ]
        }
      ]
    },
    {
      "cell_type": "code",
      "source": [
        "from tensorflow import keras\n",
        "model = keras.models.load_model('/content/drive/MyDrive/trained models/Train.h5')\n",
        "\n",
        "import tensorflow as tf\n",
        "sess = tf.compat.v1.InteractiveSession()\n",
        "\n",
        "predictions = model.predict(Xtrain)\n",
        "\n",
        "indexes = tf.argmax(predictions, axis=1)\n",
        "answers = indexes.numpy()\n",
        "\n",
        "res = pd.DataFrame(answers)\n",
        "res.columns = [\"prediction\"]"
      ],
      "metadata": {
        "colab": {
          "base_uri": "https://localhost:8080/"
        },
        "id": "yTjIFoFdTRsI",
        "outputId": "abb794e4-2e4a-4206-c082-5a36f6f81060"
      },
      "execution_count": 11,
      "outputs": [
        {
          "output_type": "stream",
          "name": "stderr",
          "text": [
            "WARNING:absl:Compiled the loaded model, but the compiled metrics have yet to be built. `model.compile_metrics` will be empty until you train or evaluate the model.\n"
          ]
        },
        {
          "output_type": "stream",
          "name": "stdout",
          "text": [
            "\u001b[1m277/277\u001b[0m \u001b[32m━━━━━━━━━━━━━━━━━━━━\u001b[0m\u001b[37m\u001b[0m \u001b[1m2s\u001b[0m 3ms/step\n"
          ]
        }
      ]
    },
    {
      "cell_type": "code",
      "source": [
        "test = []\n",
        "for i in range(len(paths)):\n",
        "    print(paths[i])\n",
        "    for j in os.listdir(paths[i]):\n",
        "        x = int(re.findall(r'\\d+', j)[0])\n",
        "        if x in terms:\n",
        "            indx = terms.index(x)\n",
        "            test.append([x, actual[indx]])\n",
        "\n",
        "final = []\n",
        "yact, ypred = [], []\n",
        "for a, b in zip(test, answers):\n",
        "    yact.append(a[1])\n",
        "    ypred.append(b)\n",
        "    final.append([a[0], b, a[1]])\n",
        "print(final[1])"
      ],
      "metadata": {
        "colab": {
          "base_uri": "https://localhost:8080/"
        },
        "id": "oGtSeeKSTW7H",
        "outputId": "2068b27a-ce39-4405-b672-343cc92e7df8"
      },
      "execution_count": 12,
      "outputs": [
        {
          "output_type": "stream",
          "name": "stdout",
          "text": [
            "/content/drive/MyDrive/Hepth Deep Text/2000 hepth deep texts\n",
            "/content/drive/MyDrive/Hepth Deep Text/2001 hepth deep texts\n",
            "/content/drive/MyDrive/Hepth Deep Text/2002 hepth deep texts\n",
            "/content/drive/MyDrive/Hepth Deep Text/2003 hepth deep texts\n",
            "[6175, np.int64(0), 0]\n"
          ]
        }
      ]
    },
    {
      "cell_type": "code",
      "source": [
        "from sklearn.metrics import classification_report\n",
        "target_names = ['class 0', 'class 1']\n",
        "print(classification_report(yact, ypred, target_names=target_names))\n",
        "\n",
        "final = pd.DataFrame(final)\n",
        "print(final.head())\n",
        "final.columns = ['FileName', 'Predicted', 'Actual']\n",
        "final.to_csv('RESULTS.csv', index=None)"
      ],
      "metadata": {
        "colab": {
          "base_uri": "https://localhost:8080/"
        },
        "id": "GRV21p6ZTNfo",
        "outputId": "82a3ddb0-ed16-4dbc-a236-24afa492f82a"
      },
      "execution_count": 13,
      "outputs": [
        {
          "output_type": "stream",
          "name": "stdout",
          "text": [
            "              precision    recall  f1-score   support\n",
            "\n",
            "     class 0       0.75      0.84      0.79      6582\n",
            "     class 1       0.26      0.16      0.19      2253\n",
            "\n",
            "    accuracy                           0.67      8835\n",
            "   macro avg       0.50      0.50      0.49      8835\n",
            "weighted avg       0.62      0.67      0.64      8835\n",
            "\n",
            "      0  1  2\n",
            "0  6174  0  0\n",
            "1  6175  0  0\n",
            "2  6176  0  0\n",
            "3  6177  0  0\n",
            "4  6178  0  0\n"
          ]
        }
      ]
    }
  ]
}